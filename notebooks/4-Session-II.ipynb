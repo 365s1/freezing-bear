{
 "metadata": {
  "name": ""
 },
 "nbformat": 3,
 "nbformat_minor": 0,
 "worksheets": [
  {
   "cells": [
    {
     "cell_type": "heading",
     "level": 1,
     "metadata": {},
     "source": [
      "Session 2 : The Art of a Competition \u2013 PAKDD 2014 - ASUS Malfunctional Components Prediction"
     ]
    },
    {
     "cell_type": "heading",
     "level": 3,
     "metadata": {},
     "source": [
      "Register & Download Data from [Kaggle](http://www.kaggle.com/c/pakdd-cup-2014)"
     ]
    },
    {
     "cell_type": "code",
     "collapsed": false,
     "input": [
      "#imports\n",
      "import numpy as np\n",
      "print 'numpy:', np.__version__\n",
      "\n",
      "import scipy\n",
      "print 'scipy:', scipy.__version__\n",
      "\n",
      "import pandas as pd\n",
      "print 'pandas: ',pd.__version__\n",
      "\n",
      "import matplotlib\n",
      "print 'matplotlib:', matplotlib.__version__\n",
      "\n",
      "import sklearn\n",
      "print 'scikit-learn:', sklearn.__version__"
     ],
     "language": "python",
     "metadata": {},
     "outputs": [
      {
       "output_type": "stream",
       "stream": "stdout",
       "text": [
        "numpy: 1.8.0\n",
        "scipy: 0.13.3\n",
        "pandas:  0.13.1\n",
        "matplotlib: 1.3.1\n",
        "scikit-learn: 0.14.1\n"
       ]
      }
     ],
     "prompt_number": 43
    },
    {
     "cell_type": "code",
     "collapsed": false,
     "input": [
      "#Load Data\n",
      "df_train_repair = pd.read_csv('asus/RepairTrain.csv')\n",
      "df_train_sale = pd.read_csv('asus/SaleTrain.csv')\n",
      "df_test = pd.read_csv('asus/Output_TargetID_Mapping.csv')"
     ],
     "language": "python",
     "metadata": {},
     "outputs": [],
     "prompt_number": 44
    },
    {
     "cell_type": "code",
     "collapsed": false,
     "input": [
      "df_train_repair.head()"
     ],
     "language": "python",
     "metadata": {},
     "outputs": [
      {
       "html": [
        "<div style=\"max-height:1000px;max-width:1500px;overflow:auto;\">\n",
        "<table border=\"1\" class=\"dataframe\">\n",
        "  <thead>\n",
        "    <tr style=\"text-align: right;\">\n",
        "      <th></th>\n",
        "      <th>module_category</th>\n",
        "      <th>component_category</th>\n",
        "      <th>year/month(sale)</th>\n",
        "      <th>year/month(repair)</th>\n",
        "      <th>number_repair</th>\n",
        "    </tr>\n",
        "  </thead>\n",
        "  <tbody>\n",
        "    <tr>\n",
        "      <th>0</th>\n",
        "      <td> M6</td>\n",
        "      <td> P16</td>\n",
        "      <td>  2007/9</td>\n",
        "      <td>  2009/4</td>\n",
        "      <td> 1</td>\n",
        "    </tr>\n",
        "    <tr>\n",
        "      <th>1</th>\n",
        "      <td> M2</td>\n",
        "      <td> P30</td>\n",
        "      <td>  2007/9</td>\n",
        "      <td>  2009/8</td>\n",
        "      <td> 1</td>\n",
        "    </tr>\n",
        "    <tr>\n",
        "      <th>2</th>\n",
        "      <td> M1</td>\n",
        "      <td> P12</td>\n",
        "      <td> 2006/10</td>\n",
        "      <td>  2008/2</td>\n",
        "      <td> 2</td>\n",
        "    </tr>\n",
        "    <tr>\n",
        "      <th>3</th>\n",
        "      <td> M1</td>\n",
        "      <td> P30</td>\n",
        "      <td>  2006/5</td>\n",
        "      <td>  2007/7</td>\n",
        "      <td> 1</td>\n",
        "    </tr>\n",
        "    <tr>\n",
        "      <th>4</th>\n",
        "      <td> M3</td>\n",
        "      <td> P06</td>\n",
        "      <td>  2007/8</td>\n",
        "      <td> 2007/12</td>\n",
        "      <td> 1</td>\n",
        "    </tr>\n",
        "  </tbody>\n",
        "</table>\n",
        "<p>5 rows \u00d7 5 columns</p>\n",
        "</div>"
       ],
       "metadata": {},
       "output_type": "pyout",
       "prompt_number": 45,
       "text": [
        "  module_category component_category year/month(sale) year/month(repair)  \\\n",
        "0              M6                P16           2007/9             2009/4   \n",
        "1              M2                P30           2007/9             2009/8   \n",
        "2              M1                P12          2006/10             2008/2   \n",
        "3              M1                P30           2006/5             2007/7   \n",
        "4              M3                P06           2007/8            2007/12   \n",
        "\n",
        "   number_repair  \n",
        "0              1  \n",
        "1              1  \n",
        "2              2  \n",
        "3              1  \n",
        "4              1  \n",
        "\n",
        "[5 rows x 5 columns]"
       ]
      }
     ],
     "prompt_number": 45
    },
    {
     "cell_type": "code",
     "collapsed": false,
     "input": [
      "df_train_sale.head()"
     ],
     "language": "python",
     "metadata": {},
     "outputs": [
      {
       "html": [
        "<div style=\"max-height:1000px;max-width:1500px;overflow:auto;\">\n",
        "<table border=\"1\" class=\"dataframe\">\n",
        "  <thead>\n",
        "    <tr style=\"text-align: right;\">\n",
        "      <th></th>\n",
        "      <th>module_category</th>\n",
        "      <th>component_category</th>\n",
        "      <th>year/month</th>\n",
        "      <th>number_sale</th>\n",
        "    </tr>\n",
        "  </thead>\n",
        "  <tbody>\n",
        "    <tr>\n",
        "      <th>0</th>\n",
        "      <td> M4</td>\n",
        "      <td> P27</td>\n",
        "      <td>  2005/1</td>\n",
        "      <td>    0</td>\n",
        "    </tr>\n",
        "    <tr>\n",
        "      <th>1</th>\n",
        "      <td> M4</td>\n",
        "      <td> P27</td>\n",
        "      <td>  2005/5</td>\n",
        "      <td> 1042</td>\n",
        "    </tr>\n",
        "    <tr>\n",
        "      <th>2</th>\n",
        "      <td> M4</td>\n",
        "      <td> P27</td>\n",
        "      <td>  2005/9</td>\n",
        "      <td> 1677</td>\n",
        "    </tr>\n",
        "    <tr>\n",
        "      <th>3</th>\n",
        "      <td> M4</td>\n",
        "      <td> P27</td>\n",
        "      <td> 2005/10</td>\n",
        "      <td>  918</td>\n",
        "    </tr>\n",
        "    <tr>\n",
        "      <th>4</th>\n",
        "      <td> M4</td>\n",
        "      <td> P27</td>\n",
        "      <td> 2005/11</td>\n",
        "      <td>    0</td>\n",
        "    </tr>\n",
        "  </tbody>\n",
        "</table>\n",
        "<p>5 rows \u00d7 4 columns</p>\n",
        "</div>"
       ],
       "metadata": {},
       "output_type": "pyout",
       "prompt_number": 46,
       "text": [
        "  module_category component_category year/month  number_sale\n",
        "0              M4                P27     2005/1            0\n",
        "1              M4                P27     2005/5         1042\n",
        "2              M4                P27     2005/9         1677\n",
        "3              M4                P27    2005/10          918\n",
        "4              M4                P27    2005/11            0\n",
        "\n",
        "[5 rows x 4 columns]"
       ]
      }
     ],
     "prompt_number": 46
    },
    {
     "cell_type": "code",
     "collapsed": false,
     "input": [
      "df_test.head()"
     ],
     "language": "python",
     "metadata": {},
     "outputs": [
      {
       "html": [
        "<div style=\"max-height:1000px;max-width:1500px;overflow:auto;\">\n",
        "<table border=\"1\" class=\"dataframe\">\n",
        "  <thead>\n",
        "    <tr style=\"text-align: right;\">\n",
        "      <th></th>\n",
        "      <th>module_category</th>\n",
        "      <th>component_category</th>\n",
        "      <th>year</th>\n",
        "      <th>month</th>\n",
        "    </tr>\n",
        "  </thead>\n",
        "  <tbody>\n",
        "    <tr>\n",
        "      <th>0</th>\n",
        "      <td> M1</td>\n",
        "      <td> P02</td>\n",
        "      <td> 2010</td>\n",
        "      <td> 1</td>\n",
        "    </tr>\n",
        "    <tr>\n",
        "      <th>1</th>\n",
        "      <td> M1</td>\n",
        "      <td> P02</td>\n",
        "      <td> 2010</td>\n",
        "      <td> 2</td>\n",
        "    </tr>\n",
        "    <tr>\n",
        "      <th>2</th>\n",
        "      <td> M1</td>\n",
        "      <td> P02</td>\n",
        "      <td> 2010</td>\n",
        "      <td> 3</td>\n",
        "    </tr>\n",
        "    <tr>\n",
        "      <th>3</th>\n",
        "      <td> M1</td>\n",
        "      <td> P02</td>\n",
        "      <td> 2010</td>\n",
        "      <td> 4</td>\n",
        "    </tr>\n",
        "    <tr>\n",
        "      <th>4</th>\n",
        "      <td> M1</td>\n",
        "      <td> P02</td>\n",
        "      <td> 2010</td>\n",
        "      <td> 5</td>\n",
        "    </tr>\n",
        "  </tbody>\n",
        "</table>\n",
        "<p>5 rows \u00d7 4 columns</p>\n",
        "</div>"
       ],
       "metadata": {},
       "output_type": "pyout",
       "prompt_number": 47,
       "text": [
        "  module_category component_category  year  month\n",
        "0              M1                P02  2010      1\n",
        "1              M1                P02  2010      2\n",
        "2              M1                P02  2010      3\n",
        "3              M1                P02  2010      4\n",
        "4              M1                P02  2010      5\n",
        "\n",
        "[5 rows x 4 columns]"
       ]
      }
     ],
     "prompt_number": 47
    },
    {
     "cell_type": "code",
     "collapsed": false,
     "input": [
      "df_test.shape"
     ],
     "language": "python",
     "metadata": {},
     "outputs": [
      {
       "metadata": {},
       "output_type": "pyout",
       "prompt_number": 48,
       "text": [
        "(4256, 4)"
       ]
      }
     ],
     "prompt_number": 48
    },
    {
     "cell_type": "code",
     "collapsed": false,
     "input": [
      "df_test.dtypes"
     ],
     "language": "python",
     "metadata": {},
     "outputs": [
      {
       "metadata": {},
       "output_type": "pyout",
       "prompt_number": 77,
       "text": [
        "module_category       object\n",
        "component_category    object\n",
        "year                   int64\n",
        "month                  int64\n",
        "dtype: object"
       ]
      }
     ],
     "prompt_number": 77
    },
    {
     "cell_type": "code",
     "collapsed": false,
     "input": [
      "df_test.year.min(),df_test.month.min()"
     ],
     "language": "python",
     "metadata": {},
     "outputs": [
      {
       "metadata": {},
       "output_type": "pyout",
       "prompt_number": 78,
       "text": [
        "(2010, 1)"
       ]
      }
     ],
     "prompt_number": 78
    },
    {
     "cell_type": "code",
     "collapsed": false,
     "input": [
      "df_test.year.max(),df_test.month.max()"
     ],
     "language": "python",
     "metadata": {},
     "outputs": [
      {
       "metadata": {},
       "output_type": "pyout",
       "prompt_number": 79,
       "text": [
        "(2011, 12)"
       ]
      }
     ],
     "prompt_number": 79
    },
    {
     "cell_type": "code",
     "collapsed": false,
     "input": [
      "10*31*24"
     ],
     "language": "python",
     "metadata": {},
     "outputs": [
      {
       "metadata": {},
       "output_type": "pyout",
       "prompt_number": 80,
       "text": [
        "7440"
       ]
      }
     ],
     "prompt_number": 80
    },
    {
     "cell_type": "markdown",
     "metadata": {},
     "source": [
      "_M1-M10, P1-P31 for 2 years would have had 7440 rows.\n",
      "Interesting, not all modules have all components_"
     ]
    },
    {
     "cell_type": "heading",
     "level": 2,
     "metadata": {},
     "source": [
      "#1 : All 0s, All 1s"
     ]
    },
    {
     "cell_type": "code",
     "collapsed": false,
     "input": [
      "df_test['target'] = np.zeros(4256)\n",
      "df_test['id'] = range(1,4257)"
     ],
     "language": "python",
     "metadata": {},
     "outputs": [],
     "prompt_number": 10
    },
    {
     "cell_type": "code",
     "collapsed": false,
     "input": [
      "df_test.head(1)"
     ],
     "language": "python",
     "metadata": {},
     "outputs": [
      {
       "html": [
        "<div style=\"max-height:1000px;max-width:1500px;overflow:auto;\">\n",
        "<table border=\"1\" class=\"dataframe\">\n",
        "  <thead>\n",
        "    <tr style=\"text-align: right;\">\n",
        "      <th></th>\n",
        "      <th>module_category</th>\n",
        "      <th>component_category</th>\n",
        "      <th>year</th>\n",
        "      <th>month</th>\n",
        "      <th>target</th>\n",
        "      <th>id</th>\n",
        "    </tr>\n",
        "  </thead>\n",
        "  <tbody>\n",
        "    <tr>\n",
        "      <th>0</th>\n",
        "      <td> M1</td>\n",
        "      <td> P02</td>\n",
        "      <td> 2010</td>\n",
        "      <td> 1</td>\n",
        "      <td> 0</td>\n",
        "      <td> 1</td>\n",
        "    </tr>\n",
        "  </tbody>\n",
        "</table>\n",
        "<p>1 rows \u00d7 6 columns</p>\n",
        "</div>"
       ],
       "metadata": {},
       "output_type": "pyout",
       "prompt_number": 11,
       "text": [
        "  module_category component_category  year  month  target  id\n",
        "0              M1                P02  2010      1       0   1\n",
        "\n",
        "[1 rows x 6 columns]"
       ]
      }
     ],
     "prompt_number": 11
    },
    {
     "cell_type": "code",
     "collapsed": false,
     "input": [
      "df_test[['id','target']].to_csv('asus/zeros.csv', index=False, float_format=\"%f\")\n",
      "# Submit and you will still get 5.65179 - one among 300-487 ;o("
     ],
     "language": "python",
     "metadata": {},
     "outputs": [],
     "prompt_number": 12
    },
    {
     "cell_type": "code",
     "collapsed": false,
     "input": [
      "df_test['target'] = np.ones(4256)\n",
      "df_test.head(1)"
     ],
     "language": "python",
     "metadata": {},
     "outputs": [
      {
       "html": [
        "<div style=\"max-height:1000px;max-width:1500px;overflow:auto;\">\n",
        "<table border=\"1\" class=\"dataframe\">\n",
        "  <thead>\n",
        "    <tr style=\"text-align: right;\">\n",
        "      <th></th>\n",
        "      <th>module_category</th>\n",
        "      <th>component_category</th>\n",
        "      <th>year</th>\n",
        "      <th>month</th>\n",
        "      <th>target</th>\n",
        "      <th>id</th>\n",
        "    </tr>\n",
        "  </thead>\n",
        "  <tbody>\n",
        "    <tr>\n",
        "      <th>0</th>\n",
        "      <td> M1</td>\n",
        "      <td> P02</td>\n",
        "      <td> 2010</td>\n",
        "      <td> 1</td>\n",
        "      <td> 1</td>\n",
        "      <td> 1</td>\n",
        "    </tr>\n",
        "  </tbody>\n",
        "</table>\n",
        "<p>1 rows \u00d7 6 columns</p>\n",
        "</div>"
       ],
       "metadata": {},
       "output_type": "pyout",
       "prompt_number": 13,
       "text": [
        "  module_category component_category  year  month  target  id\n",
        "0              M1                P02  2010      1       1   1\n",
        "\n",
        "[1 rows x 6 columns]"
       ]
      }
     ],
     "prompt_number": 13
    },
    {
     "cell_type": "code",
     "collapsed": false,
     "input": [
      "df_test[['id','target']].to_csv('asus/ones.csv', index=False, float_format=\"%f\")\n",
      "# Submit and you will still get 5.89991 - one among 525-534 worse than before. But then we have done no work so far !"
     ],
     "language": "python",
     "metadata": {},
     "outputs": [],
     "prompt_number": 14
    },
    {
     "cell_type": "heading",
     "level": 2,
     "metadata": {},
     "source": [
      "#2 : Let us transorm the data"
     ]
    },
    {
     "cell_type": "code",
     "collapsed": false,
     "input": [
      "def getY(row):\n",
      "    y,m = row['year/month'].split('/')\n",
      "    return y\n",
      "df_train_sale['year'] = df_train_sale.apply(getY,axis=1)"
     ],
     "language": "python",
     "metadata": {},
     "outputs": [],
     "prompt_number": 49
    },
    {
     "cell_type": "code",
     "collapsed": false,
     "input": [
      "df_train_sale.head(2)"
     ],
     "language": "python",
     "metadata": {},
     "outputs": [
      {
       "html": [
        "<div style=\"max-height:1000px;max-width:1500px;overflow:auto;\">\n",
        "<table border=\"1\" class=\"dataframe\">\n",
        "  <thead>\n",
        "    <tr style=\"text-align: right;\">\n",
        "      <th></th>\n",
        "      <th>module_category</th>\n",
        "      <th>component_category</th>\n",
        "      <th>year/month</th>\n",
        "      <th>number_sale</th>\n",
        "      <th>year</th>\n",
        "    </tr>\n",
        "  </thead>\n",
        "  <tbody>\n",
        "    <tr>\n",
        "      <th>0</th>\n",
        "      <td> M4</td>\n",
        "      <td> P27</td>\n",
        "      <td> 2005/1</td>\n",
        "      <td>    0</td>\n",
        "      <td> 2005</td>\n",
        "    </tr>\n",
        "    <tr>\n",
        "      <th>1</th>\n",
        "      <td> M4</td>\n",
        "      <td> P27</td>\n",
        "      <td> 2005/5</td>\n",
        "      <td> 1042</td>\n",
        "      <td> 2005</td>\n",
        "    </tr>\n",
        "  </tbody>\n",
        "</table>\n",
        "<p>2 rows \u00d7 5 columns</p>\n",
        "</div>"
       ],
       "metadata": {},
       "output_type": "pyout",
       "prompt_number": 50,
       "text": [
        "  module_category component_category year/month  number_sale  year\n",
        "0              M4                P27     2005/1            0  2005\n",
        "1              M4                P27     2005/5         1042  2005\n",
        "\n",
        "[2 rows x 5 columns]"
       ]
      }
     ],
     "prompt_number": 50
    },
    {
     "cell_type": "code",
     "collapsed": false,
     "input": [
      "def getM(row):\n",
      "    y,m = row['year/month'].split('/')\n",
      "    return m\n",
      "df_train_sale['month'] = df_train_sale.apply(getM,axis=1)\n",
      "df_train_sale.head(2)"
     ],
     "language": "python",
     "metadata": {},
     "outputs": [
      {
       "html": [
        "<div style=\"max-height:1000px;max-width:1500px;overflow:auto;\">\n",
        "<table border=\"1\" class=\"dataframe\">\n",
        "  <thead>\n",
        "    <tr style=\"text-align: right;\">\n",
        "      <th></th>\n",
        "      <th>module_category</th>\n",
        "      <th>component_category</th>\n",
        "      <th>year/month</th>\n",
        "      <th>number_sale</th>\n",
        "      <th>year</th>\n",
        "      <th>month</th>\n",
        "    </tr>\n",
        "  </thead>\n",
        "  <tbody>\n",
        "    <tr>\n",
        "      <th>0</th>\n",
        "      <td> M4</td>\n",
        "      <td> P27</td>\n",
        "      <td> 2005/1</td>\n",
        "      <td>    0</td>\n",
        "      <td> 2005</td>\n",
        "      <td> 1</td>\n",
        "    </tr>\n",
        "    <tr>\n",
        "      <th>1</th>\n",
        "      <td> M4</td>\n",
        "      <td> P27</td>\n",
        "      <td> 2005/5</td>\n",
        "      <td> 1042</td>\n",
        "      <td> 2005</td>\n",
        "      <td> 5</td>\n",
        "    </tr>\n",
        "  </tbody>\n",
        "</table>\n",
        "<p>2 rows \u00d7 6 columns</p>\n",
        "</div>"
       ],
       "metadata": {},
       "output_type": "pyout",
       "prompt_number": 51,
       "text": [
        "  module_category component_category year/month  number_sale  year month\n",
        "0              M4                P27     2005/1            0  2005     1\n",
        "1              M4                P27     2005/5         1042  2005     5\n",
        "\n",
        "[2 rows x 6 columns]"
       ]
      }
     ],
     "prompt_number": 51
    },
    {
     "cell_type": "code",
     "collapsed": false,
     "input": [
      "df_train_repair.head(2)"
     ],
     "language": "python",
     "metadata": {},
     "outputs": [
      {
       "html": [
        "<div style=\"max-height:1000px;max-width:1500px;overflow:auto;\">\n",
        "<table border=\"1\" class=\"dataframe\">\n",
        "  <thead>\n",
        "    <tr style=\"text-align: right;\">\n",
        "      <th></th>\n",
        "      <th>module_category</th>\n",
        "      <th>component_category</th>\n",
        "      <th>year/month(sale)</th>\n",
        "      <th>year/month(repair)</th>\n",
        "      <th>number_repair</th>\n",
        "    </tr>\n",
        "  </thead>\n",
        "  <tbody>\n",
        "    <tr>\n",
        "      <th>0</th>\n",
        "      <td> M6</td>\n",
        "      <td> P16</td>\n",
        "      <td> 2007/9</td>\n",
        "      <td> 2009/4</td>\n",
        "      <td> 1</td>\n",
        "    </tr>\n",
        "    <tr>\n",
        "      <th>1</th>\n",
        "      <td> M2</td>\n",
        "      <td> P30</td>\n",
        "      <td> 2007/9</td>\n",
        "      <td> 2009/8</td>\n",
        "      <td> 1</td>\n",
        "    </tr>\n",
        "  </tbody>\n",
        "</table>\n",
        "<p>2 rows \u00d7 5 columns</p>\n",
        "</div>"
       ],
       "metadata": {},
       "output_type": "pyout",
       "prompt_number": 52,
       "text": [
        "  module_category component_category year/month(sale) year/month(repair)  \\\n",
        "0              M6                P16           2007/9             2009/4   \n",
        "1              M2                P30           2007/9             2009/8   \n",
        "\n",
        "   number_repair  \n",
        "0              1  \n",
        "1              1  \n",
        "\n",
        "[2 rows x 5 columns]"
       ]
      }
     ],
     "prompt_number": 52
    },
    {
     "cell_type": "code",
     "collapsed": false,
     "input": [
      "def getY_sale(row):\n",
      "    y,m = row['year/month(sale)'].split('/')\n",
      "    return y\n",
      "df_train_repair['sale-year'] = df_train_repair.apply(getY_sale,axis=1)\n",
      "df_train_repair.head(2)"
     ],
     "language": "python",
     "metadata": {},
     "outputs": [
      {
       "html": [
        "<div style=\"max-height:1000px;max-width:1500px;overflow:auto;\">\n",
        "<table border=\"1\" class=\"dataframe\">\n",
        "  <thead>\n",
        "    <tr style=\"text-align: right;\">\n",
        "      <th></th>\n",
        "      <th>module_category</th>\n",
        "      <th>component_category</th>\n",
        "      <th>year/month(sale)</th>\n",
        "      <th>year/month(repair)</th>\n",
        "      <th>number_repair</th>\n",
        "      <th>sale-year</th>\n",
        "    </tr>\n",
        "  </thead>\n",
        "  <tbody>\n",
        "    <tr>\n",
        "      <th>0</th>\n",
        "      <td> M6</td>\n",
        "      <td> P16</td>\n",
        "      <td> 2007/9</td>\n",
        "      <td> 2009/4</td>\n",
        "      <td> 1</td>\n",
        "      <td> 2007</td>\n",
        "    </tr>\n",
        "    <tr>\n",
        "      <th>1</th>\n",
        "      <td> M2</td>\n",
        "      <td> P30</td>\n",
        "      <td> 2007/9</td>\n",
        "      <td> 2009/8</td>\n",
        "      <td> 1</td>\n",
        "      <td> 2007</td>\n",
        "    </tr>\n",
        "  </tbody>\n",
        "</table>\n",
        "<p>2 rows \u00d7 6 columns</p>\n",
        "</div>"
       ],
       "metadata": {},
       "output_type": "pyout",
       "prompt_number": 53,
       "text": [
        "  module_category component_category year/month(sale) year/month(repair)  \\\n",
        "0              M6                P16           2007/9             2009/4   \n",
        "1              M2                P30           2007/9             2009/8   \n",
        "\n",
        "   number_repair sale-year  \n",
        "0              1      2007  \n",
        "1              1      2007  \n",
        "\n",
        "[2 rows x 6 columns]"
       ]
      }
     ],
     "prompt_number": 53
    },
    {
     "cell_type": "code",
     "collapsed": false,
     "input": [
      "def getM_sale(row):\n",
      "    y,m = row['year/month(sale)'].split('/')\n",
      "    return m\n",
      "df_train_repair['sale-month'] = df_train_repair.apply(getM_sale,axis=1)\n",
      "#\n",
      "def getY_repair(row):\n",
      "    y,m = row['year/month(repair)'].split('/')\n",
      "    return y\n",
      "df_train_repair['repair-year'] = df_train_repair.apply(getY_repair,axis=1)\n",
      "#\n",
      "def getM_repair(row):\n",
      "    y,m = row['year/month(repair)'].split('/')\n",
      "    return m\n",
      "df_train_repair['repair-month'] = df_train_repair.apply(getM_repair,axis=1)\n",
      "#\n",
      "df_train_repair.head(2)"
     ],
     "language": "python",
     "metadata": {},
     "outputs": [
      {
       "html": [
        "<div style=\"max-height:1000px;max-width:1500px;overflow:auto;\">\n",
        "<table border=\"1\" class=\"dataframe\">\n",
        "  <thead>\n",
        "    <tr style=\"text-align: right;\">\n",
        "      <th></th>\n",
        "      <th>module_category</th>\n",
        "      <th>component_category</th>\n",
        "      <th>year/month(sale)</th>\n",
        "      <th>year/month(repair)</th>\n",
        "      <th>number_repair</th>\n",
        "      <th>sale-year</th>\n",
        "      <th>sale-month</th>\n",
        "      <th>repair-year</th>\n",
        "      <th>repair-month</th>\n",
        "    </tr>\n",
        "  </thead>\n",
        "  <tbody>\n",
        "    <tr>\n",
        "      <th>0</th>\n",
        "      <td> M6</td>\n",
        "      <td> P16</td>\n",
        "      <td> 2007/9</td>\n",
        "      <td> 2009/4</td>\n",
        "      <td> 1</td>\n",
        "      <td> 2007</td>\n",
        "      <td> 9</td>\n",
        "      <td> 2009</td>\n",
        "      <td> 4</td>\n",
        "    </tr>\n",
        "    <tr>\n",
        "      <th>1</th>\n",
        "      <td> M2</td>\n",
        "      <td> P30</td>\n",
        "      <td> 2007/9</td>\n",
        "      <td> 2009/8</td>\n",
        "      <td> 1</td>\n",
        "      <td> 2007</td>\n",
        "      <td> 9</td>\n",
        "      <td> 2009</td>\n",
        "      <td> 8</td>\n",
        "    </tr>\n",
        "  </tbody>\n",
        "</table>\n",
        "<p>2 rows \u00d7 9 columns</p>\n",
        "</div>"
       ],
       "metadata": {},
       "output_type": "pyout",
       "prompt_number": 55,
       "text": [
        "  module_category component_category year/month(sale) year/month(repair)  \\\n",
        "0              M6                P16           2007/9             2009/4   \n",
        "1              M2                P30           2007/9             2009/8   \n",
        "\n",
        "   number_repair sale-year sale-month repair-year repair-month  \n",
        "0              1      2007          9        2009            4  \n",
        "1              1      2007          9        2009            8  \n",
        "\n",
        "[2 rows x 9 columns]"
       ]
      },
      {
       "output_type": "stream",
       "stream": "stdout",
       "text": [
        "\n"
       ]
      }
     ],
     "prompt_number": 55
    },
    {
     "cell_type": "code",
     "collapsed": false,
     "input": [
      "print df_train_repair['sale-year'].min(), df_train_repair['sale-month'].min()\n",
      "print df_train_repair['sale-year'].max(), df_train_repair['sale-month'].max()"
     ],
     "language": "python",
     "metadata": {},
     "outputs": [
      {
       "output_type": "stream",
       "stream": "stdout",
       "text": [
        "2003 1\n",
        "2009"
       ]
      },
      {
       "output_type": "stream",
       "stream": "stdout",
       "text": [
        " 9\n"
       ]
      }
     ],
     "prompt_number": 56
    },
    {
     "cell_type": "code",
     "collapsed": false,
     "input": [
      "print df_train_repair['repair-year'].min(), df_train_repair['repair-month'].min()\n",
      "print df_train_repair['repair-year'].max(), df_train_repair['repair-month'].max()"
     ],
     "language": "python",
     "metadata": {},
     "outputs": [
      {
       "output_type": "stream",
       "stream": "stdout",
       "text": [
        "2005 1\n",
        "2009"
       ]
      },
      {
       "output_type": "stream",
       "stream": "stdout",
       "text": [
        " 9\n"
       ]
      }
     ],
     "prompt_number": 57
    },
    {
     "cell_type": "code",
     "collapsed": false,
     "input": [
      "df_train_repair['sale-year'].dtype"
     ],
     "language": "python",
     "metadata": {},
     "outputs": [
      {
       "metadata": {},
       "output_type": "pyout",
       "prompt_number": 36,
       "text": [
        "dtype('O')"
       ]
      }
     ],
     "prompt_number": 36
    },
    {
     "cell_type": "code",
     "collapsed": false,
     "input": [
      "df_train_repair.shape"
     ],
     "language": "python",
     "metadata": {},
     "outputs": [
      {
       "metadata": {},
       "output_type": "pyout",
       "prompt_number": 38,
       "text": [
        "(510281, 9)"
       ]
      }
     ],
     "prompt_number": 38
    },
    {
     "cell_type": "code",
     "collapsed": false,
     "input": [
      "df_train_repair.dtypes"
     ],
     "language": "python",
     "metadata": {},
     "outputs": [
      {
       "metadata": {},
       "output_type": "pyout",
       "prompt_number": 60,
       "text": [
        "module_category       object\n",
        "component_category    object\n",
        "year/month(sale)      object\n",
        "year/month(repair)    object\n",
        "number_repair          int64\n",
        "sale-year              int64\n",
        "sale-month            object\n",
        "repair-year           object\n",
        "repair-month          object\n",
        "dtype: object"
       ]
      }
     ],
     "prompt_number": 60
    },
    {
     "cell_type": "code",
     "collapsed": false,
     "input": [
      "df_train_repair['sale-year'] = df_train_repair['sale-year'].astype(int64)"
     ],
     "language": "python",
     "metadata": {},
     "outputs": [],
     "prompt_number": 58
    },
    {
     "cell_type": "code",
     "collapsed": false,
     "input": [
      "df_train_repair.dtypes"
     ],
     "language": "python",
     "metadata": {},
     "outputs": [
      {
       "metadata": {},
       "output_type": "pyout",
       "prompt_number": 59,
       "text": [
        "module_category       object\n",
        "component_category    object\n",
        "year/month(sale)      object\n",
        "year/month(repair)    object\n",
        "number_repair          int64\n",
        "sale-year              int64\n",
        "sale-month            object\n",
        "repair-year           object\n",
        "repair-month          object\n",
        "dtype: object"
       ]
      }
     ],
     "prompt_number": 59
    },
    {
     "cell_type": "code",
     "collapsed": false,
     "input": [
      "df_train_repair['sale-month'] = df_train_repair['sale-month'].astype(int64)\n",
      "df_train_repair['repair-year'] = df_train_repair['repair-year'].astype(int64)\n",
      "df_train_repair['repair-month'] = df_train_repair['repair-month'].astype(int64)"
     ],
     "language": "python",
     "metadata": {},
     "outputs": [],
     "prompt_number": 61
    },
    {
     "cell_type": "code",
     "collapsed": false,
     "input": [
      "df_train_repair.dtypes"
     ],
     "language": "python",
     "metadata": {},
     "outputs": [
      {
       "metadata": {},
       "output_type": "pyout",
       "prompt_number": 62,
       "text": [
        "module_category       object\n",
        "component_category    object\n",
        "year/month(sale)      object\n",
        "year/month(repair)    object\n",
        "number_repair          int64\n",
        "sale-year              int64\n",
        "sale-month             int64\n",
        "repair-year            int64\n",
        "repair-month           int64\n",
        "dtype: object"
       ]
      }
     ],
     "prompt_number": 62
    },
    {
     "cell_type": "code",
     "collapsed": false,
     "input": [
      "df_train_repair.head(2)"
     ],
     "language": "python",
     "metadata": {},
     "outputs": [
      {
       "html": [
        "<div style=\"max-height:1000px;max-width:1500px;overflow:auto;\">\n",
        "<table border=\"1\" class=\"dataframe\">\n",
        "  <thead>\n",
        "    <tr style=\"text-align: right;\">\n",
        "      <th></th>\n",
        "      <th>module_category</th>\n",
        "      <th>component_category</th>\n",
        "      <th>year/month(sale)</th>\n",
        "      <th>year/month(repair)</th>\n",
        "      <th>number_repair</th>\n",
        "      <th>sale-year</th>\n",
        "      <th>sale-month</th>\n",
        "      <th>repair-year</th>\n",
        "      <th>repair-month</th>\n",
        "    </tr>\n",
        "  </thead>\n",
        "  <tbody>\n",
        "    <tr>\n",
        "      <th>0</th>\n",
        "      <td> M6</td>\n",
        "      <td> P16</td>\n",
        "      <td> 2007/9</td>\n",
        "      <td> 2009/4</td>\n",
        "      <td> 1</td>\n",
        "      <td> 2007</td>\n",
        "      <td> 9</td>\n",
        "      <td> 2009</td>\n",
        "      <td> 4</td>\n",
        "    </tr>\n",
        "    <tr>\n",
        "      <th>1</th>\n",
        "      <td> M2</td>\n",
        "      <td> P30</td>\n",
        "      <td> 2007/9</td>\n",
        "      <td> 2009/8</td>\n",
        "      <td> 1</td>\n",
        "      <td> 2007</td>\n",
        "      <td> 9</td>\n",
        "      <td> 2009</td>\n",
        "      <td> 8</td>\n",
        "    </tr>\n",
        "  </tbody>\n",
        "</table>\n",
        "<p>2 rows \u00d7 9 columns</p>\n",
        "</div>"
       ],
       "metadata": {},
       "output_type": "pyout",
       "prompt_number": 63,
       "text": [
        "  module_category component_category year/month(sale) year/month(repair)  \\\n",
        "0              M6                P16           2007/9             2009/4   \n",
        "1              M2                P30           2007/9             2009/8   \n",
        "\n",
        "   number_repair  sale-year  sale-month  repair-year  repair-month  \n",
        "0              1       2007           9         2009             4  \n",
        "1              1       2007           9         2009             8  \n",
        "\n",
        "[2 rows x 9 columns]"
       ]
      }
     ],
     "prompt_number": 63
    },
    {
     "cell_type": "code",
     "collapsed": false,
     "input": [
      "df_train_repair.sort(['module_category','component_category','sale-year','sale-month','repair-year','repair-month'],inplace=True)"
     ],
     "language": "python",
     "metadata": {},
     "outputs": [],
     "prompt_number": 66
    },
    {
     "cell_type": "code",
     "collapsed": false,
     "input": [
      "df_train_repair.head(10)"
     ],
     "language": "python",
     "metadata": {},
     "outputs": [
      {
       "html": [
        "<div style=\"max-height:1000px;max-width:1500px;overflow:auto;\">\n",
        "<table border=\"1\" class=\"dataframe\">\n",
        "  <thead>\n",
        "    <tr style=\"text-align: right;\">\n",
        "      <th></th>\n",
        "      <th>module_category</th>\n",
        "      <th>component_category</th>\n",
        "      <th>year/month(sale)</th>\n",
        "      <th>year/month(repair)</th>\n",
        "      <th>number_repair</th>\n",
        "      <th>sale-year</th>\n",
        "      <th>sale-month</th>\n",
        "      <th>repair-year</th>\n",
        "      <th>repair-month</th>\n",
        "    </tr>\n",
        "  </thead>\n",
        "  <tbody>\n",
        "    <tr>\n",
        "      <th>244794</th>\n",
        "      <td> M1</td>\n",
        "      <td> P02</td>\n",
        "      <td> 2006/1</td>\n",
        "      <td>  2007/6</td>\n",
        "      <td> 1</td>\n",
        "      <td> 2006</td>\n",
        "      <td> 1</td>\n",
        "      <td> 2007</td>\n",
        "      <td>  6</td>\n",
        "    </tr>\n",
        "    <tr>\n",
        "      <th>261854</th>\n",
        "      <td> M1</td>\n",
        "      <td> P02</td>\n",
        "      <td> 2006/2</td>\n",
        "      <td>  2006/9</td>\n",
        "      <td> 1</td>\n",
        "      <td> 2006</td>\n",
        "      <td> 2</td>\n",
        "      <td> 2006</td>\n",
        "      <td>  9</td>\n",
        "    </tr>\n",
        "    <tr>\n",
        "      <th>467558</th>\n",
        "      <td> M1</td>\n",
        "      <td> P02</td>\n",
        "      <td> 2006/2</td>\n",
        "      <td>  2006/9</td>\n",
        "      <td> 1</td>\n",
        "      <td> 2006</td>\n",
        "      <td> 2</td>\n",
        "      <td> 2006</td>\n",
        "      <td>  9</td>\n",
        "    </tr>\n",
        "    <tr>\n",
        "      <th>252917</th>\n",
        "      <td> M1</td>\n",
        "      <td> P02</td>\n",
        "      <td> 2006/2</td>\n",
        "      <td> 2006/11</td>\n",
        "      <td> 1</td>\n",
        "      <td> 2006</td>\n",
        "      <td> 2</td>\n",
        "      <td> 2006</td>\n",
        "      <td> 11</td>\n",
        "    </tr>\n",
        "    <tr>\n",
        "      <th>272733</th>\n",
        "      <td> M1</td>\n",
        "      <td> P02</td>\n",
        "      <td> 2006/2</td>\n",
        "      <td> 2006/12</td>\n",
        "      <td> 1</td>\n",
        "      <td> 2006</td>\n",
        "      <td> 2</td>\n",
        "      <td> 2006</td>\n",
        "      <td> 12</td>\n",
        "    </tr>\n",
        "    <tr>\n",
        "      <th>42357 </th>\n",
        "      <td> M1</td>\n",
        "      <td> P02</td>\n",
        "      <td> 2006/2</td>\n",
        "      <td>  2007/8</td>\n",
        "      <td> 1</td>\n",
        "      <td> 2006</td>\n",
        "      <td> 2</td>\n",
        "      <td> 2007</td>\n",
        "      <td>  8</td>\n",
        "    </tr>\n",
        "    <tr>\n",
        "      <th>390431</th>\n",
        "      <td> M1</td>\n",
        "      <td> P02</td>\n",
        "      <td> 2006/2</td>\n",
        "      <td>  2007/8</td>\n",
        "      <td> 1</td>\n",
        "      <td> 2006</td>\n",
        "      <td> 2</td>\n",
        "      <td> 2007</td>\n",
        "      <td>  8</td>\n",
        "    </tr>\n",
        "    <tr>\n",
        "      <th>172116</th>\n",
        "      <td> M1</td>\n",
        "      <td> P02</td>\n",
        "      <td> 2006/2</td>\n",
        "      <td>  2008/1</td>\n",
        "      <td> 1</td>\n",
        "      <td> 2006</td>\n",
        "      <td> 2</td>\n",
        "      <td> 2008</td>\n",
        "      <td>  1</td>\n",
        "    </tr>\n",
        "    <tr>\n",
        "      <th>497742</th>\n",
        "      <td> M1</td>\n",
        "      <td> P02</td>\n",
        "      <td> 2006/2</td>\n",
        "      <td>  2008/3</td>\n",
        "      <td> 1</td>\n",
        "      <td> 2006</td>\n",
        "      <td> 2</td>\n",
        "      <td> 2008</td>\n",
        "      <td>  3</td>\n",
        "    </tr>\n",
        "    <tr>\n",
        "      <th>386486</th>\n",
        "      <td> M1</td>\n",
        "      <td> P02</td>\n",
        "      <td> 2006/2</td>\n",
        "      <td>  2008/4</td>\n",
        "      <td> 1</td>\n",
        "      <td> 2006</td>\n",
        "      <td> 2</td>\n",
        "      <td> 2008</td>\n",
        "      <td>  4</td>\n",
        "    </tr>\n",
        "  </tbody>\n",
        "</table>\n",
        "<p>10 rows \u00d7 9 columns</p>\n",
        "</div>"
       ],
       "metadata": {},
       "output_type": "pyout",
       "prompt_number": 69,
       "text": [
        "       module_category component_category year/month(sale) year/month(repair)  \\\n",
        "244794              M1                P02           2006/1             2007/6   \n",
        "261854              M1                P02           2006/2             2006/9   \n",
        "467558              M1                P02           2006/2             2006/9   \n",
        "252917              M1                P02           2006/2            2006/11   \n",
        "272733              M1                P02           2006/2            2006/12   \n",
        "42357               M1                P02           2006/2             2007/8   \n",
        "390431              M1                P02           2006/2             2007/8   \n",
        "172116              M1                P02           2006/2             2008/1   \n",
        "497742              M1                P02           2006/2             2008/3   \n",
        "386486              M1                P02           2006/2             2008/4   \n",
        "\n",
        "        number_repair  sale-year  sale-month  repair-year  repair-month  \n",
        "244794              1       2006           1         2007             6  \n",
        "261854              1       2006           2         2006             9  \n",
        "467558              1       2006           2         2006             9  \n",
        "252917              1       2006           2         2006            11  \n",
        "272733              1       2006           2         2006            12  \n",
        "42357               1       2006           2         2007             8  \n",
        "390431              1       2006           2         2007             8  \n",
        "172116              1       2006           2         2008             1  \n",
        "497742              1       2006           2         2008             3  \n",
        "386486              1       2006           2         2008             4  \n",
        "\n",
        "[10 rows x 9 columns]"
       ]
      }
     ],
     "prompt_number": 69
    },
    {
     "cell_type": "code",
     "collapsed": false,
     "input": [
      "df_train_sale.sort(['module_category','component_category','year','month'],inplace=True)"
     ],
     "language": "python",
     "metadata": {},
     "outputs": [],
     "prompt_number": 70
    },
    {
     "cell_type": "code",
     "collapsed": false,
     "input": [
      "df_train_sale.shape"
     ],
     "language": "python",
     "metadata": {},
     "outputs": [
      {
       "metadata": {},
       "output_type": "pyout",
       "prompt_number": 73,
       "text": [
        "(223200, 6)"
       ]
      }
     ],
     "prompt_number": 73
    },
    {
     "cell_type": "code",
     "collapsed": false,
     "input": [
      "df_train_sale.groupby(by=['module_category','component_category']).count()['number_sale']"
     ],
     "language": "python",
     "metadata": {},
     "outputs": [
      {
       "metadata": {},
       "output_type": "pyout",
       "prompt_number": 75,
       "text": [
        "module_category  component_category\n",
        "M0               P01                   855\n",
        "                 P02                   855\n",
        "                 P03                   855\n",
        "                 P04                   855\n",
        "                 P05                   855\n",
        "                 P06                   855\n",
        "                 P07                   855\n",
        "                 P08                   855\n",
        "                 P09                   855\n",
        "                 P10                   855\n",
        "                 P11                   855\n",
        "                 P12                   855\n",
        "                 P13                   855\n",
        "                 P14                   855\n",
        "                 P15                   855\n",
        "...\n",
        "M9               P17                   748\n",
        "                 P18                   748\n",
        "                 P19                   748\n",
        "                 P20                   748\n",
        "                 P21                   748\n",
        "                 P22                   748\n",
        "                 P23                   748\n",
        "                 P24                   748\n",
        "                 P25                   748\n",
        "                 P26                   748\n",
        "                 P27                   748\n",
        "                 P28                   748\n",
        "                 P29                   748\n",
        "                 P30                   748\n",
        "                 P31                   748\n",
        "Name: number_sale, Length: 310, dtype: int64"
       ]
      }
     ],
     "prompt_number": 75
    },
    {
     "cell_type": "heading",
     "level": 1,
     "metadata": {},
     "source": [
      "#3 : To Try On your own ... "
     ]
    },
    {
     "cell_type": "raw",
     "metadata": {},
     "source": [
      "Please post your code, algorithms, ideas ..."
     ]
    }
   ],
   "metadata": {}
  }
 ]
}