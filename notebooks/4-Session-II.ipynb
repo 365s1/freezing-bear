{
 "metadata": {
  "name": ""
 },
 "nbformat": 3,
 "nbformat_minor": 0,
 "worksheets": [
  {
   "cells": [
    {
     "cell_type": "heading",
     "level": 1,
     "metadata": {},
     "source": [
      "Session 2 : The Art of a Competition \u2013 PAKDD 2014 - ASUS Malfunctional Components Prediction"
     ]
    },
    {
     "cell_type": "heading",
     "level": 3,
     "metadata": {},
     "source": [
      "Register & Download Data from [Kaggle](http://www.kaggle.com/c/pakdd-cup-2014)"
     ]
    },
    {
     "cell_type": "code",
     "collapsed": false,
     "input": [
      "#imports\n",
      "import numpy as np\n",
      "print 'numpy:', np.__version__\n",
      "\n",
      "import scipy\n",
      "print 'scipy:', scipy.__version__\n",
      "\n",
      "import pandas as pd\n",
      "print 'pandas: ',pd.__version__\n",
      "\n",
      "import matplotlib\n",
      "print 'matplotlib:', matplotlib.__version__\n",
      "\n",
      "import sklearn\n",
      "print 'scikit-learn:', sklearn.__version__"
     ],
     "language": "python",
     "metadata": {},
     "outputs": [
      {
       "output_type": "stream",
       "stream": "stdout",
       "text": [
        "numpy: 1.8.0\n",
        "scipy: 0.13.3\n",
        "pandas: "
       ]
      },
      {
       "output_type": "stream",
       "stream": "stdout",
       "text": [
        " 0.13.1\n",
        "matplotlib: 1.3.1\n",
        "scikit-learn:"
       ]
      },
      {
       "output_type": "stream",
       "stream": "stdout",
       "text": [
        " 0.14.1\n"
       ]
      }
     ],
     "prompt_number": 1
    },
    {
     "cell_type": "code",
     "collapsed": false,
     "input": [
      "#Load Data\n",
      "df_train_repair = pd.read_csv('asus/RepairTrain.csv')\n",
      "df_train_sale = pd.read_csv('asus/SaleTrain.csv')\n",
      "df_test = pd.read_csv('asus/Output_TargetID_Mapping.csv')"
     ],
     "language": "python",
     "metadata": {},
     "outputs": [],
     "prompt_number": 2
    },
    {
     "cell_type": "code",
     "collapsed": false,
     "input": [
      "df_train_repair.head()"
     ],
     "language": "python",
     "metadata": {},
     "outputs": [
      {
       "html": [
        "<div style=\"max-height:1000px;max-width:1500px;overflow:auto;\">\n",
        "<table border=\"1\" class=\"dataframe\">\n",
        "  <thead>\n",
        "    <tr style=\"text-align: right;\">\n",
        "      <th></th>\n",
        "      <th>module_category</th>\n",
        "      <th>component_category</th>\n",
        "      <th>year/month(sale)</th>\n",
        "      <th>year/month(repair)</th>\n",
        "      <th>number_repair</th>\n",
        "    </tr>\n",
        "  </thead>\n",
        "  <tbody>\n",
        "    <tr>\n",
        "      <th>0</th>\n",
        "      <td> M6</td>\n",
        "      <td> P16</td>\n",
        "      <td>  2007/9</td>\n",
        "      <td>  2009/4</td>\n",
        "      <td> 1</td>\n",
        "    </tr>\n",
        "    <tr>\n",
        "      <th>1</th>\n",
        "      <td> M2</td>\n",
        "      <td> P30</td>\n",
        "      <td>  2007/9</td>\n",
        "      <td>  2009/8</td>\n",
        "      <td> 1</td>\n",
        "    </tr>\n",
        "    <tr>\n",
        "      <th>2</th>\n",
        "      <td> M1</td>\n",
        "      <td> P12</td>\n",
        "      <td> 2006/10</td>\n",
        "      <td>  2008/2</td>\n",
        "      <td> 2</td>\n",
        "    </tr>\n",
        "    <tr>\n",
        "      <th>3</th>\n",
        "      <td> M1</td>\n",
        "      <td> P30</td>\n",
        "      <td>  2006/5</td>\n",
        "      <td>  2007/7</td>\n",
        "      <td> 1</td>\n",
        "    </tr>\n",
        "    <tr>\n",
        "      <th>4</th>\n",
        "      <td> M3</td>\n",
        "      <td> P06</td>\n",
        "      <td>  2007/8</td>\n",
        "      <td> 2007/12</td>\n",
        "      <td> 1</td>\n",
        "    </tr>\n",
        "  </tbody>\n",
        "</table>\n",
        "<p>5 rows \u00d7 5 columns</p>\n",
        "</div>"
       ],
       "metadata": {},
       "output_type": "pyout",
       "prompt_number": 3,
       "text": [
        "  module_category component_category year/month(sale) year/month(repair)  \\\n",
        "0              M6                P16           2007/9             2009/4   \n",
        "1              M2                P30           2007/9             2009/8   \n",
        "2              M1                P12          2006/10             2008/2   \n",
        "3              M1                P30           2006/5             2007/7   \n",
        "4              M3                P06           2007/8            2007/12   \n",
        "\n",
        "   number_repair  \n",
        "0              1  \n",
        "1              1  \n",
        "2              2  \n",
        "3              1  \n",
        "4              1  \n",
        "\n",
        "[5 rows x 5 columns]"
       ]
      }
     ],
     "prompt_number": 3
    },
    {
     "cell_type": "code",
     "collapsed": false,
     "input": [
      "df_train_sale.head()"
     ],
     "language": "python",
     "metadata": {},
     "outputs": [
      {
       "html": [
        "<div style=\"max-height:1000px;max-width:1500px;overflow:auto;\">\n",
        "<table border=\"1\" class=\"dataframe\">\n",
        "  <thead>\n",
        "    <tr style=\"text-align: right;\">\n",
        "      <th></th>\n",
        "      <th>module_category</th>\n",
        "      <th>component_category</th>\n",
        "      <th>year/month</th>\n",
        "      <th>number_sale</th>\n",
        "    </tr>\n",
        "  </thead>\n",
        "  <tbody>\n",
        "    <tr>\n",
        "      <th>0</th>\n",
        "      <td> M4</td>\n",
        "      <td> P27</td>\n",
        "      <td>  2005/1</td>\n",
        "      <td>    0</td>\n",
        "    </tr>\n",
        "    <tr>\n",
        "      <th>1</th>\n",
        "      <td> M4</td>\n",
        "      <td> P27</td>\n",
        "      <td>  2005/5</td>\n",
        "      <td> 1042</td>\n",
        "    </tr>\n",
        "    <tr>\n",
        "      <th>2</th>\n",
        "      <td> M4</td>\n",
        "      <td> P27</td>\n",
        "      <td>  2005/9</td>\n",
        "      <td> 1677</td>\n",
        "    </tr>\n",
        "    <tr>\n",
        "      <th>3</th>\n",
        "      <td> M4</td>\n",
        "      <td> P27</td>\n",
        "      <td> 2005/10</td>\n",
        "      <td>  918</td>\n",
        "    </tr>\n",
        "    <tr>\n",
        "      <th>4</th>\n",
        "      <td> M4</td>\n",
        "      <td> P27</td>\n",
        "      <td> 2005/11</td>\n",
        "      <td>    0</td>\n",
        "    </tr>\n",
        "  </tbody>\n",
        "</table>\n",
        "<p>5 rows \u00d7 4 columns</p>\n",
        "</div>"
       ],
       "metadata": {},
       "output_type": "pyout",
       "prompt_number": 4,
       "text": [
        "  module_category component_category year/month  number_sale\n",
        "0              M4                P27     2005/1            0\n",
        "1              M4                P27     2005/5         1042\n",
        "2              M4                P27     2005/9         1677\n",
        "3              M4                P27    2005/10          918\n",
        "4              M4                P27    2005/11            0\n",
        "\n",
        "[5 rows x 4 columns]"
       ]
      }
     ],
     "prompt_number": 4
    },
    {
     "cell_type": "code",
     "collapsed": false,
     "input": [
      "df_test.head()"
     ],
     "language": "python",
     "metadata": {},
     "outputs": [
      {
       "html": [
        "<div style=\"max-height:1000px;max-width:1500px;overflow:auto;\">\n",
        "<table border=\"1\" class=\"dataframe\">\n",
        "  <thead>\n",
        "    <tr style=\"text-align: right;\">\n",
        "      <th></th>\n",
        "      <th>module_category</th>\n",
        "      <th>component_category</th>\n",
        "      <th>year</th>\n",
        "      <th>month</th>\n",
        "    </tr>\n",
        "  </thead>\n",
        "  <tbody>\n",
        "    <tr>\n",
        "      <th>0</th>\n",
        "      <td> M1</td>\n",
        "      <td> P02</td>\n",
        "      <td> 2010</td>\n",
        "      <td> 1</td>\n",
        "    </tr>\n",
        "    <tr>\n",
        "      <th>1</th>\n",
        "      <td> M1</td>\n",
        "      <td> P02</td>\n",
        "      <td> 2010</td>\n",
        "      <td> 2</td>\n",
        "    </tr>\n",
        "    <tr>\n",
        "      <th>2</th>\n",
        "      <td> M1</td>\n",
        "      <td> P02</td>\n",
        "      <td> 2010</td>\n",
        "      <td> 3</td>\n",
        "    </tr>\n",
        "    <tr>\n",
        "      <th>3</th>\n",
        "      <td> M1</td>\n",
        "      <td> P02</td>\n",
        "      <td> 2010</td>\n",
        "      <td> 4</td>\n",
        "    </tr>\n",
        "    <tr>\n",
        "      <th>4</th>\n",
        "      <td> M1</td>\n",
        "      <td> P02</td>\n",
        "      <td> 2010</td>\n",
        "      <td> 5</td>\n",
        "    </tr>\n",
        "  </tbody>\n",
        "</table>\n",
        "<p>5 rows \u00d7 4 columns</p>\n",
        "</div>"
       ],
       "metadata": {},
       "output_type": "pyout",
       "prompt_number": 5,
       "text": [
        "  module_category component_category  year  month\n",
        "0              M1                P02  2010      1\n",
        "1              M1                P02  2010      2\n",
        "2              M1                P02  2010      3\n",
        "3              M1                P02  2010      4\n",
        "4              M1                P02  2010      5\n",
        "\n",
        "[5 rows x 4 columns]"
       ]
      }
     ],
     "prompt_number": 5
    },
    {
     "cell_type": "code",
     "collapsed": false,
     "input": [
      "df_test.shape"
     ],
     "language": "python",
     "metadata": {},
     "outputs": [
      {
       "metadata": {},
       "output_type": "pyout",
       "prompt_number": 7,
       "text": [
        "(4256, 4)"
       ]
      }
     ],
     "prompt_number": 7
    },
    {
     "cell_type": "heading",
     "level": 2,
     "metadata": {},
     "source": [
      "#1 : All 0s, All 1s"
     ]
    },
    {
     "cell_type": "code",
     "collapsed": false,
     "input": [
      "df_test['target'] = np.zeros(4256)\n",
      "df_test['id'] = range(1,4257)"
     ],
     "language": "python",
     "metadata": {},
     "outputs": [],
     "prompt_number": 10
    },
    {
     "cell_type": "code",
     "collapsed": false,
     "input": [
      "df_test.head(1)"
     ],
     "language": "python",
     "metadata": {},
     "outputs": [
      {
       "html": [
        "<div style=\"max-height:1000px;max-width:1500px;overflow:auto;\">\n",
        "<table border=\"1\" class=\"dataframe\">\n",
        "  <thead>\n",
        "    <tr style=\"text-align: right;\">\n",
        "      <th></th>\n",
        "      <th>module_category</th>\n",
        "      <th>component_category</th>\n",
        "      <th>year</th>\n",
        "      <th>month</th>\n",
        "      <th>target</th>\n",
        "      <th>id</th>\n",
        "    </tr>\n",
        "  </thead>\n",
        "  <tbody>\n",
        "    <tr>\n",
        "      <th>0</th>\n",
        "      <td> M1</td>\n",
        "      <td> P02</td>\n",
        "      <td> 2010</td>\n",
        "      <td> 1</td>\n",
        "      <td> 0</td>\n",
        "      <td> 1</td>\n",
        "    </tr>\n",
        "  </tbody>\n",
        "</table>\n",
        "<p>1 rows \u00d7 6 columns</p>\n",
        "</div>"
       ],
       "metadata": {},
       "output_type": "pyout",
       "prompt_number": 11,
       "text": [
        "  module_category component_category  year  month  target  id\n",
        "0              M1                P02  2010      1       0   1\n",
        "\n",
        "[1 rows x 6 columns]"
       ]
      }
     ],
     "prompt_number": 11
    },
    {
     "cell_type": "code",
     "collapsed": false,
     "input": [
      "df_test[['id','target']].to_csv('asus/zeros.csv', index=False, float_format=\"%f\")\n",
      "# Submit and you will still get 5.65179 - one among 300-487 ;o("
     ],
     "language": "python",
     "metadata": {},
     "outputs": [],
     "prompt_number": 12
    },
    {
     "cell_type": "code",
     "collapsed": false,
     "input": [
      "df_test['target'] = np.ones(4256)\n",
      "df_test.head(1)"
     ],
     "language": "python",
     "metadata": {},
     "outputs": [
      {
       "html": [
        "<div style=\"max-height:1000px;max-width:1500px;overflow:auto;\">\n",
        "<table border=\"1\" class=\"dataframe\">\n",
        "  <thead>\n",
        "    <tr style=\"text-align: right;\">\n",
        "      <th></th>\n",
        "      <th>module_category</th>\n",
        "      <th>component_category</th>\n",
        "      <th>year</th>\n",
        "      <th>month</th>\n",
        "      <th>target</th>\n",
        "      <th>id</th>\n",
        "    </tr>\n",
        "  </thead>\n",
        "  <tbody>\n",
        "    <tr>\n",
        "      <th>0</th>\n",
        "      <td> M1</td>\n",
        "      <td> P02</td>\n",
        "      <td> 2010</td>\n",
        "      <td> 1</td>\n",
        "      <td> 1</td>\n",
        "      <td> 1</td>\n",
        "    </tr>\n",
        "  </tbody>\n",
        "</table>\n",
        "<p>1 rows \u00d7 6 columns</p>\n",
        "</div>"
       ],
       "metadata": {},
       "output_type": "pyout",
       "prompt_number": 13,
       "text": [
        "  module_category component_category  year  month  target  id\n",
        "0              M1                P02  2010      1       1   1\n",
        "\n",
        "[1 rows x 6 columns]"
       ]
      }
     ],
     "prompt_number": 13
    },
    {
     "cell_type": "code",
     "collapsed": false,
     "input": [
      "df_test[['id','target']].to_csv('asus/ones.csv', index=False, float_format=\"%f\")\n",
      "# Submit and you will still get 5.5.89991 - one among 525-534 worse than before. But then we have done no work so far !"
     ],
     "language": "python",
     "metadata": {},
     "outputs": [],
     "prompt_number": 14
    },
    {
     "cell_type": "code",
     "collapsed": false,
     "input": [],
     "language": "python",
     "metadata": {},
     "outputs": []
    }
   ],
   "metadata": {}
  }
 ]
}