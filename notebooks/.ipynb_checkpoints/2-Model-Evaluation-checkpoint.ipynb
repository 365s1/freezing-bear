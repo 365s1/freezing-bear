{
 "metadata": {
  "name": ""
 },
 "nbformat": 3,
 "nbformat_minor": 0,
 "worksheets": [
  {
   "cells": [
    {
     "cell_type": "heading",
     "level": 1,
     "metadata": {},
     "source": [
      "Model Evaluation & Interpretation "
     ]
    },
    {
     "cell_type": "code",
     "collapsed": false,
     "input": [
      "import numpy as np\n",
      "print 'numpy:', np.__version__\n",
      "\n",
      "import scipy\n",
      "print 'scipy:', scipy.__version__\n",
      "\n",
      "import pandas as pd\n",
      "print 'pandas: ',pd.__version__\n",
      "\n",
      "import matplotlib\n",
      "print 'matplotlib:', matplotlib.__version__\n",
      "\n",
      "import sklearn\n",
      "print 'scikit-learn:', sklearn.__version__"
     ],
     "language": "python",
     "metadata": {},
     "outputs": []
    },
    {
     "cell_type": "heading",
     "level": 2,
     "metadata": {},
     "source": [
      "Model Accuracy & Confusion Matrix"
     ]
    },
    {
     "cell_type": "code",
     "collapsed": false,
     "input": [
      "#Load Data\n",
      "df_train = pd.read_csv('titanic/train.csv')\n",
      "df_test = pd.read_csv('titanic/test.csv')\n",
      "#Add Gender\n",
      "gender_code = lambda row: [1,0] [row['Sex'] == 'male']\n",
      "df_train['Gender'] = df_train.apply(gender_code,axis=1)\n",
      "#Drop attributes\n",
      "df_train.drop(['Ticket','Cabin','Embarked','Age','Name','Sex'],inplace=True,axis=1)\n",
      "#Create arrays for scikit-learn\n",
      "train_x_all = df_train[['Pclass','SibSp','Parch','Fare','Gender']].values\n",
      "train_y_all = df_train.Survived.values"
     ],
     "language": "python",
     "metadata": {},
     "outputs": []
    },
    {
     "cell_type": "code",
     "collapsed": false,
     "input": [
      "#Create Classifier\n",
      "from sklearn.ensemble import RandomForestClassifier\n",
      "clf = RandomForestClassifier()"
     ],
     "language": "python",
     "metadata": {},
     "outputs": []
    },
    {
     "cell_type": "markdown",
     "metadata": {},
     "source": [
      "We know we got 0.75598. Let us see if we can measure out model accuracy"
     ]
    },
    {
     "cell_type": "code",
     "collapsed": false,
     "input": [
      "from sklearn import metrics\n",
      "from sklearn.cross_validation import train_test_split\n",
      "#Split 80-20 train vs test data\n",
      "train_x, test_x, train_y, test_y = train_test_split(train_x_all,train_y_all, test_size=0.20, random_state=0)\n",
      "print (train_x_all.shape,train_y_all.shape)\n",
      "print (train_x.shape,train_y.shape)\n",
      "print (test_x.shape,test_y.shape)"
     ],
     "language": "python",
     "metadata": {},
     "outputs": []
    },
    {
     "cell_type": "code",
     "collapsed": false,
     "input": [
      "from IPython.core.display import Image \n",
      "Image(filename='partition.png') "
     ],
     "language": "python",
     "metadata": {},
     "outputs": []
    },
    {
     "cell_type": "code",
     "collapsed": false,
     "input": [
      "clf = clf.fit(train_x,train_y)\n",
      "predict_y = clf.predict(test_x)\n",
      "print (predict_y.shape)\n",
      "from sklearn.metrics import accuracy_score\n",
      "print (\"Accuracy = %.2f\" % (accuracy_score(test_y,predict_y)))"
     ],
     "language": "python",
     "metadata": {},
     "outputs": []
    },
    {
     "cell_type": "code",
     "collapsed": false,
     "input": [
      "model_score=clf.score(test_x,test_y)\n",
      "print (\"Model Score %.2f\" % (model_score))\n",
      "confusion_matrix = metrics.confusion_matrix(test_y,predict_y)\n",
      "print (\"Confusion Matrix \",confusion_matrix)"
     ],
     "language": "python",
     "metadata": {},
     "outputs": []
    },
    {
     "cell_type": "code",
     "collapsed": false,
     "input": [
      "from IPython.core.display import Image \n",
      "Image(filename='confusion_matrix.png') "
     ],
     "language": "python",
     "metadata": {},
     "outputs": []
    },
    {
     "cell_type": "code",
     "collapsed": false,
     "input": [
      "print (\"          Predicted\")\n",
      "print (\"         |  0 | 1  |\")\n",
      "print (\"         |----|----|\")\n",
      "print (\"       0 | %2d | %2d |\" % (confusion_matrix[0,0],confusion_matrix[0,1]))\n",
      "print (\"Actual   |----|----|\")\n",
      "print (\"       1 | %2d | %2d |\" % (confusion_matrix[1,0],confusion_matrix[1,1]))\n",
      "print (\"         |----|----|\")"
     ],
     "language": "python",
     "metadata": {},
     "outputs": []
    },
    {
     "cell_type": "code",
     "collapsed": false,
     "input": [
      "df_test_y = pd.DataFrame(test_y)\n",
      "df_test_y.groupby(by=0).count()"
     ],
     "language": "python",
     "metadata": {},
     "outputs": []
    },
    {
     "cell_type": "code",
     "collapsed": false,
     "input": [
      "from sklearn.metrics import classification_report\n",
      "print(classification_report(test_y,predict_y,target_names=['not survived', 'survived']))"
     ],
     "language": "python",
     "metadata": {},
     "outputs": []
    },
    {
     "cell_type": "heading",
     "level": 2,
     "metadata": {},
     "source": [
      "Cross Validation"
     ]
    },
    {
     "cell_type": "code",
     "collapsed": false,
     "input": [
      "from sklearn.cross_validation import cross_val_score\n",
      "\n",
      "scores = cross_val_score(clf, train_x_all, train_y_all, cv=5)\n",
      "scores #oob scores"
     ],
     "language": "python",
     "metadata": {},
     "outputs": []
    },
    {
     "cell_type": "code",
     "collapsed": false,
     "input": [
      "Image(filename='cv.png')"
     ],
     "language": "python",
     "metadata": {},
     "outputs": []
    },
    {
     "cell_type": "code",
     "collapsed": false,
     "input": [
      "scores = cross_val_score(clf, train_x_all, train_y_all, cv=5,scoring='roc_auc')\n",
      "scores, scores.min(), scores.mean(), scores.max()"
     ],
     "language": "python",
     "metadata": {},
     "outputs": []
    },
    {
     "cell_type": "code",
     "collapsed": false,
     "input": [
      "from sklearn.tree import DecisionTreeClassifier\n",
      "clf_1 = DecisionTreeClassifier() \n",
      "scores = cross_val_score(clf_1, train_x_all, train_y_all, cv=5,scoring='roc_auc')\n",
      "scores, scores.min(), scores.mean(), scores.max()"
     ],
     "language": "python",
     "metadata": {},
     "outputs": []
    },
    {
     "cell_type": "heading",
     "level": 3,
     "metadata": {},
     "source": [
      "Exercise : Compare SVM with 4 Kernels : Linear, Polynomial, Radial Basis Function & Sigmoid "
     ]
    },
    {
     "cell_type": "code",
     "collapsed": false,
     "input": [
      "#Hint\n",
      "from sklearn.svm import SVC"
     ],
     "language": "python",
     "metadata": {},
     "outputs": []
    },
    {
     "cell_type": "heading",
     "level": 2,
     "metadata": {},
     "source": [
      "ROC [Receiver Operating Characteristics] Analysis"
     ]
    },
    {
     "cell_type": "code",
     "collapsed": false,
     "input": [
      "%pylab --no-import-all inline\n",
      "from scipy import interp\n",
      "import pylab as pl\n",
      "from sklearn.metrics import roc_curve, auc\n",
      "from sklearn.cross_validation import StratifiedKFold\n",
      "\n",
      "X = train_x_all\n",
      "y = train_y_all\n",
      "n_samples, n_features = X.shape\n",
      "\n",
      "# Add noisy features\n",
      "X = np.c_[X, np.random.randn(n_samples, 200 * n_features)]\n",
      "\n",
      "###############################################################################\n",
      "# Classification and ROC analysis\n",
      "# Run classifier with cross-validation and plot ROC curves\n",
      "\n",
      "cv = StratifiedKFold(y, n_folds=6)\n",
      "classifier = DecisionTreeClassifier() \n",
      "\n",
      "mean_tpr = 0.0\n",
      "mean_fpr = np.linspace(0, 1, 100)\n",
      "all_tpr = []\n",
      "\n",
      "for i, (train, test) in enumerate(cv):\n",
      "    probas_ = classifier.fit(X[train], y[train]).predict_proba(X[test])\n",
      "    # Compute ROC curve and area the curve\n",
      "    fpr, tpr, thresholds = roc_curve(y[test], probas_[:, 1])\n",
      "    mean_tpr += interp(mean_fpr, fpr, tpr)\n",
      "    mean_tpr[0] = 0.0\n",
      "    roc_auc = auc(fpr, tpr)\n",
      "    pl.plot(fpr, tpr, lw=1, label='ROC fold %d (area = %0.2f)' % (i, roc_auc))\n",
      "\n",
      "pl.plot([0, 1], [0, 1], '--', color=(0.6, 0.6, 0.6), label='Luck')\n",
      "\n",
      "mean_tpr /= len(cv)\n",
      "mean_tpr[-1] = 1.0\n",
      "mean_auc = auc(mean_fpr, mean_tpr)\n",
      "pl.plot(mean_fpr, mean_tpr, 'k--',\n",
      "        label='Mean ROC (area = %0.2f)' % mean_auc, lw=2)\n",
      "\n",
      "pl.xlim([-0.05, 1.05])\n",
      "pl.ylim([-0.05, 1.05])\n",
      "pl.xlabel('False Positive Rate')\n",
      "pl.ylabel('True Positive Rate')\n",
      "pl.title('Receiver Operating Characteristic For Titanic dataset')\n",
      "pl.legend(loc=\"lower right\")\n",
      "pl.show()"
     ],
     "language": "python",
     "metadata": {},
     "outputs": []
    },
    {
     "cell_type": "code",
     "collapsed": false,
     "input": [
      "from sklearn.metrics import roc_curve\n",
      "from sklearn.metrics import auc\n",
      "\n",
      "def plot_roc_curve(target_test, target_predicted_proba):\n",
      "    fpr, tpr, thresholds = roc_curve(target_test, target_predicted_proba[:, 1])\n",
      "    \n",
      "    roc_auc = auc(fpr, tpr)\n",
      "    # Plot ROC curve\n",
      "    plt.plot(fpr, tpr, label='ROC curve (area = %0.3f)' % roc_auc)\n",
      "    plt.plot([0, 1], [0, 1], 'k--')  # random predictions curve\n",
      "    plt.xlim([0.0, 1.0])\n",
      "    plt.ylim([0.0, 1.0])\n",
      "    plt.xlabel('False Positive Rate or (1 - Specifity)')\n",
      "    plt.ylabel('True Positive Rate or (Sensitivity)')\n",
      "    plt.title('Receiver Operating Characteristic')\n",
      "    plt.legend(loc=\"lower right\")"
     ],
     "language": "python",
     "metadata": {},
     "outputs": []
    },
    {
     "cell_type": "code",
     "collapsed": false,
     "input": [
      "plot_roc_curve(y[test], probas_) #target_test, target_predicted_proba)"
     ],
     "language": "python",
     "metadata": {},
     "outputs": []
    },
    {
     "cell_type": "heading",
     "level": 3,
     "metadata": {},
     "source": [
      "_That's ALL Folks !_"
     ]
    },
    {
     "cell_type": "code",
     "collapsed": false,
     "input": [],
     "language": "python",
     "metadata": {},
     "outputs": []
    }
   ],
   "metadata": {}
  }
 ]
}