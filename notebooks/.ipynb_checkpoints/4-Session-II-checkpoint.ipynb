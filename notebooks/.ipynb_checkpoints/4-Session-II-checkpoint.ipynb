{
 "metadata": {
  "name": ""
 },
 "nbformat": 3,
 "nbformat_minor": 0,
 "worksheets": [
  {
   "cells": [
    {
     "cell_type": "heading",
     "level": 1,
     "metadata": {},
     "source": [
      "Session 2 : The Art of a Competition \u2013 PAKDD 2014 - ASUS Malfunctional Components Prediction"
     ]
    },
    {
     "cell_type": "heading",
     "level": 3,
     "metadata": {},
     "source": [
      "Register & Download Data from [Kaggle](http://www.kaggle.com/c/pakdd-cup-2014)"
     ]
    },
    {
     "cell_type": "code",
     "collapsed": false,
     "input": [
      "#imports\n",
      "import numpy as np\n",
      "print 'numpy:', np.__version__\n",
      "\n",
      "import scipy\n",
      "print 'scipy:', scipy.__version__\n",
      "\n",
      "import pandas as pd\n",
      "print 'pandas: ',pd.__version__\n",
      "\n",
      "import matplotlib\n",
      "print 'matplotlib:', matplotlib.__version__\n",
      "\n",
      "import sklearn\n",
      "print 'scikit-learn:', sklearn.__version__"
     ],
     "language": "python",
     "metadata": {},
     "outputs": []
    },
    {
     "cell_type": "code",
     "collapsed": false,
     "input": [
      "#Load Data\n",
      "df_train_repair = pd.read_csv('asus/RepairTrain.csv')\n",
      "df_train_sale = pd.read_csv('asus/SaleTrain.csv')\n",
      "df_test = pd.read_csv('asus/Output_TargetID_Mapping.csv')"
     ],
     "language": "python",
     "metadata": {},
     "outputs": []
    },
    {
     "cell_type": "code",
     "collapsed": false,
     "input": [
      "df_train_repair.head()"
     ],
     "language": "python",
     "metadata": {},
     "outputs": []
    },
    {
     "cell_type": "code",
     "collapsed": false,
     "input": [
      "df_train_sale.head()"
     ],
     "language": "python",
     "metadata": {},
     "outputs": []
    },
    {
     "cell_type": "code",
     "collapsed": false,
     "input": [
      "df_test.head()"
     ],
     "language": "python",
     "metadata": {},
     "outputs": []
    },
    {
     "cell_type": "code",
     "collapsed": false,
     "input": [
      "df_test.shape"
     ],
     "language": "python",
     "metadata": {},
     "outputs": []
    },
    {
     "cell_type": "code",
     "collapsed": false,
     "input": [
      "df_test.dtypes"
     ],
     "language": "python",
     "metadata": {},
     "outputs": []
    },
    {
     "cell_type": "code",
     "collapsed": false,
     "input": [
      "df_test.year.min(),df_test.month.min()"
     ],
     "language": "python",
     "metadata": {},
     "outputs": []
    },
    {
     "cell_type": "code",
     "collapsed": false,
     "input": [
      "df_test.year.max(),df_test.month.max()"
     ],
     "language": "python",
     "metadata": {},
     "outputs": []
    },
    {
     "cell_type": "code",
     "collapsed": false,
     "input": [
      "10*31*24"
     ],
     "language": "python",
     "metadata": {},
     "outputs": []
    },
    {
     "cell_type": "markdown",
     "metadata": {},
     "source": [
      "_M1-M10, P1-P31 for 2 years would have had 7440 rows.\n",
      "Interesting, not all modules have all components_"
     ]
    },
    {
     "cell_type": "heading",
     "level": 2,
     "metadata": {},
     "source": [
      "#1 : All 0s, All 1s"
     ]
    },
    {
     "cell_type": "code",
     "collapsed": false,
     "input": [
      "df_test['target'] = np.zeros(4256)\n",
      "df_test['id'] = range(1,4257)"
     ],
     "language": "python",
     "metadata": {},
     "outputs": []
    },
    {
     "cell_type": "code",
     "collapsed": false,
     "input": [
      "df_test.head(1)"
     ],
     "language": "python",
     "metadata": {},
     "outputs": []
    },
    {
     "cell_type": "code",
     "collapsed": false,
     "input": [
      "df_test[['id','target']].to_csv('asus/zeros.csv', index=False, float_format=\"%f\")\n",
      "# Submit and you will still get 5.65179 - one among 300-487 ;o("
     ],
     "language": "python",
     "metadata": {},
     "outputs": []
    },
    {
     "cell_type": "code",
     "collapsed": false,
     "input": [
      "df_test['target'] = np.ones(4256)\n",
      "df_test.head(1)"
     ],
     "language": "python",
     "metadata": {},
     "outputs": []
    },
    {
     "cell_type": "code",
     "collapsed": false,
     "input": [
      "df_test[['id','target']].to_csv('asus/ones.csv', index=False, float_format=\"%f\")\n",
      "# Submit and you will still get 5.89991 - one among 525-534 worse than before. But then we have done no work so far !"
     ],
     "language": "python",
     "metadata": {},
     "outputs": []
    },
    {
     "cell_type": "heading",
     "level": 2,
     "metadata": {},
     "source": [
      "#2 : Let us transorm the data"
     ]
    },
    {
     "cell_type": "code",
     "collapsed": false,
     "input": [
      "def getY(row):\n",
      "    y,m = row['year/month'].split('/')\n",
      "    return y\n",
      "df_train_sale['year'] = df_train_sale.apply(getY,axis=1)"
     ],
     "language": "python",
     "metadata": {},
     "outputs": []
    },
    {
     "cell_type": "code",
     "collapsed": false,
     "input": [
      "df_train_sale.head(2)"
     ],
     "language": "python",
     "metadata": {},
     "outputs": []
    },
    {
     "cell_type": "code",
     "collapsed": false,
     "input": [
      "def getM(row):\n",
      "    y,m = row['year/month'].split('/')\n",
      "    return m\n",
      "df_train_sale['month'] = df_train_sale.apply(getM,axis=1)\n",
      "df_train_sale.head(2)"
     ],
     "language": "python",
     "metadata": {},
     "outputs": []
    },
    {
     "cell_type": "code",
     "collapsed": false,
     "input": [
      "df_train_repair.head(2)"
     ],
     "language": "python",
     "metadata": {},
     "outputs": []
    },
    {
     "cell_type": "code",
     "collapsed": false,
     "input": [
      "def getY_sale(row):\n",
      "    y,m = row['year/month(sale)'].split('/')\n",
      "    return y\n",
      "df_train_repair['sale-year'] = df_train_repair.apply(getY_sale,axis=1)\n",
      "df_train_repair.head(2)"
     ],
     "language": "python",
     "metadata": {},
     "outputs": []
    },
    {
     "cell_type": "code",
     "collapsed": false,
     "input": [
      "def getM_sale(row):\n",
      "    y,m = row['year/month(sale)'].split('/')\n",
      "    return m\n",
      "df_train_repair['sale-month'] = df_train_repair.apply(getM_sale,axis=1)\n",
      "#\n",
      "def getY_repair(row):\n",
      "    y,m = row['year/month(repair)'].split('/')\n",
      "    return y\n",
      "df_train_repair['repair-year'] = df_train_repair.apply(getY_repair,axis=1)\n",
      "#\n",
      "def getM_repair(row):\n",
      "    y,m = row['year/month(repair)'].split('/')\n",
      "    return m\n",
      "df_train_repair['repair-month'] = df_train_repair.apply(getM_repair,axis=1)\n",
      "#\n",
      "df_train_repair.head(2)"
     ],
     "language": "python",
     "metadata": {},
     "outputs": []
    },
    {
     "cell_type": "code",
     "collapsed": false,
     "input": [
      "print df_train_repair['sale-year'].min(), df_train_repair['sale-month'].min()\n",
      "print df_train_repair['sale-year'].max(), df_train_repair['sale-month'].max()"
     ],
     "language": "python",
     "metadata": {},
     "outputs": []
    },
    {
     "cell_type": "code",
     "collapsed": false,
     "input": [
      "print df_train_repair['repair-year'].min(), df_train_repair['repair-month'].min()\n",
      "print df_train_repair['repair-year'].max(), df_train_repair['repair-month'].max()"
     ],
     "language": "python",
     "metadata": {},
     "outputs": []
    },
    {
     "cell_type": "code",
     "collapsed": false,
     "input": [
      "df_train_repair['sale-year'].dtype"
     ],
     "language": "python",
     "metadata": {},
     "outputs": []
    },
    {
     "cell_type": "code",
     "collapsed": false,
     "input": [
      "df_train_repair.shape"
     ],
     "language": "python",
     "metadata": {},
     "outputs": []
    },
    {
     "cell_type": "code",
     "collapsed": false,
     "input": [
      "df_train_repair.dtypes"
     ],
     "language": "python",
     "metadata": {},
     "outputs": []
    },
    {
     "cell_type": "code",
     "collapsed": false,
     "input": [
      "df_train_repair['sale-year'] = df_train_repair['sale-year'].astype(int64)"
     ],
     "language": "python",
     "metadata": {},
     "outputs": []
    },
    {
     "cell_type": "code",
     "collapsed": false,
     "input": [
      "df_train_repair.dtypes"
     ],
     "language": "python",
     "metadata": {},
     "outputs": []
    },
    {
     "cell_type": "code",
     "collapsed": false,
     "input": [
      "df_train_repair['sale-month'] = df_train_repair['sale-month'].astype(int64)\n",
      "df_train_repair['repair-year'] = df_train_repair['repair-year'].astype(int64)\n",
      "df_train_repair['repair-month'] = df_train_repair['repair-month'].astype(int64)"
     ],
     "language": "python",
     "metadata": {},
     "outputs": []
    },
    {
     "cell_type": "code",
     "collapsed": false,
     "input": [
      "df_train_repair.dtypes"
     ],
     "language": "python",
     "metadata": {},
     "outputs": []
    },
    {
     "cell_type": "code",
     "collapsed": false,
     "input": [
      "df_train_repair.head(2)"
     ],
     "language": "python",
     "metadata": {},
     "outputs": []
    },
    {
     "cell_type": "code",
     "collapsed": false,
     "input": [
      "df_train_repair.sort(['module_category','component_category','sale-year','sale-month','repair-year','repair-month'],inplace=True)"
     ],
     "language": "python",
     "metadata": {},
     "outputs": []
    },
    {
     "cell_type": "code",
     "collapsed": false,
     "input": [
      "df_train_repair.head(10)"
     ],
     "language": "python",
     "metadata": {},
     "outputs": []
    },
    {
     "cell_type": "code",
     "collapsed": false,
     "input": [
      "df_train_sale.sort(['module_category','component_category','year','month'],inplace=True)"
     ],
     "language": "python",
     "metadata": {},
     "outputs": []
    },
    {
     "cell_type": "code",
     "collapsed": false,
     "input": [
      "df_train_sale.shape"
     ],
     "language": "python",
     "metadata": {},
     "outputs": []
    },
    {
     "cell_type": "code",
     "collapsed": false,
     "input": [
      "df_train_sale.groupby(by=['module_category','component_category']).count()['number_sale']"
     ],
     "language": "python",
     "metadata": {},
     "outputs": []
    },
    {
     "cell_type": "heading",
     "level": 1,
     "metadata": {},
     "source": [
      "#3 : To Try On your own ... "
     ]
    },
    {
     "cell_type": "raw",
     "metadata": {},
     "source": [
      "Please post your code, algorithms, ideas ..."
     ]
    }
   ],
   "metadata": {}
  }
 ]
}