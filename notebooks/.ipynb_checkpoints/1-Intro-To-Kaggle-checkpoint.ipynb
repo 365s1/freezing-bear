{
 "metadata": {
  "name": ""
 },
 "nbformat": 3,
 "nbformat_minor": 0,
 "worksheets": [
  {
   "cells": [
    {
     "cell_type": "heading",
     "level": 1,
     "metadata": {},
     "source": [
      "Anatomy of a Kaggle Competition"
     ]
    },
    {
     "cell_type": "markdown",
     "metadata": {},
     "source": [
      "[pycon 2014 Tutorial](https://us.pycon.org/2014/schedule/presentation/61/)\n",
      "\n",
      "[Slides at Slideshare](http://www.slideshare.net/ksankar/data-wrangling-for-kaggle-data-science-competitions)"
     ]
    },
    {
     "cell_type": "heading",
     "level": 2,
     "metadata": {},
     "source": [
      "First setup check"
     ]
    },
    {
     "cell_type": "code",
     "collapsed": false,
     "input": [
      "import numpy as np\n",
      "print 'numpy:', np.__version__\n",
      "#print '   path :',np.__path__\n",
      "\n",
      "import scipy\n",
      "print 'scipy:', scipy.__version__\n",
      "#print '   path :',scipy.__path__\n",
      "\n",
      "import pandas as pd\n",
      "print 'pandas: ',pd.__version__\n",
      "#print '   path :',pd.__path__\n",
      "\n",
      "import matplotlib as plt\n",
      "print 'matplotlib:', matplotlib.__version__\n",
      "#print '   path :',plt.__path__\n",
      "\n",
      "import sklearn\n",
      "print 'scikit-learn:', sklearn.__version__\n",
      "#print '   path :',sklearn.__path__\n",
      "\n",
      "import psutil # Process & System Utilities\n",
      "print 'psutil:',psutil.__version__\n",
      "print psutil.virtual_memory()"
     ],
     "language": "python",
     "metadata": {},
     "outputs": []
    },
    {
     "cell_type": "heading",
     "level": 2,
     "metadata": {},
     "source": [
      "Read Test & Train for the Titanic Competition "
     ]
    },
    {
     "cell_type": "code",
     "collapsed": false,
     "input": [
      "df_train = pd.read_csv('titanic/train.csv')\n",
      "df_test = pd.read_csv('titanic/test.csv')"
     ],
     "language": "python",
     "metadata": {},
     "outputs": []
    },
    {
     "cell_type": "code",
     "collapsed": false,
     "input": [
      "df_train.count() # non-NA counts"
     ],
     "language": "python",
     "metadata": {},
     "outputs": []
    },
    {
     "cell_type": "code",
     "collapsed": false,
     "input": [
      "df_train.head()"
     ],
     "language": "python",
     "metadata": {},
     "outputs": []
    },
    {
     "cell_type": "code",
     "collapsed": false,
     "input": [
      "df_train.describe()"
     ],
     "language": "python",
     "metadata": {},
     "outputs": []
    },
    {
     "cell_type": "code",
     "collapsed": false,
     "input": [
      "df_train.groupby(['Sex','Survived']).count()[['Survived','Sex']]"
     ],
     "language": "python",
     "metadata": {},
     "outputs": []
    },
    {
     "cell_type": "code",
     "collapsed": false,
     "input": [
      "print \"F-Survived   = %2.2f %%\" % ( (233.0/(81+233))*100 )\n",
      "print \"M-Survived   = %2.2f %%\" % ( (109.0/(468+109))*100 )\n",
      "print \"All-Survived = %2.2f %%\" % ( ((233.0+109)/(81+233+468+109))*100 )\n",
      "print \"All-Not Survived = %2.6f %%\" % (100-(((233.0+109)/(81+233+468+109))*100))"
     ],
     "language": "python",
     "metadata": {},
     "outputs": []
    },
    {
     "cell_type": "code",
     "collapsed": false,
     "input": [
      "df_test.head()"
     ],
     "language": "python",
     "metadata": {},
     "outputs": []
    },
    {
     "cell_type": "code",
     "collapsed": false,
     "input": [
      "df_test.count()"
     ],
     "language": "python",
     "metadata": {},
     "outputs": []
    },
    {
     "cell_type": "heading",
     "level": 2,
     "metadata": {},
     "source": [
      "#1 : Simple Model (M=Survived)"
     ]
    },
    {
     "cell_type": "code",
     "collapsed": false,
     "input": [
      "gender_model = lambda row: [0,1] [row['Sex'] == 'male']\n",
      "df_test['Survived'] = df_test.apply(gender_model,axis=1)\n",
      "# This was an error. I thought I was doing F=Survived ! Anyway, I let it stand"
     ],
     "language": "python",
     "metadata": {},
     "outputs": []
    },
    {
     "cell_type": "code",
     "collapsed": false,
     "input": [
      "df_test.head()"
     ],
     "language": "python",
     "metadata": {},
     "outputs": []
    },
    {
     "cell_type": "code",
     "collapsed": false,
     "input": [
      "df_test[['PassengerId','Survived']].to_csv('titanic/sub-01.csv', index=False, float_format=\"%f\")\n",
      "# Submit and you will get 0.23445 & be rediculed forever ;o("
     ],
     "language": "python",
     "metadata": {},
     "outputs": []
    },
    {
     "cell_type": "code",
     "collapsed": false,
     "input": [
      "df_test.groupby(by=['Sex','Survived']).count()[['Sex','Survived']]"
     ],
     "language": "python",
     "metadata": {},
     "outputs": []
    },
    {
     "cell_type": "heading",
     "level": 2,
     "metadata": {},
     "source": [
      "#2 : Simple Model (F=Survived)"
     ]
    },
    {
     "cell_type": "code",
     "collapsed": false,
     "input": [
      "gender_model = lambda row: [1,0] [row['Sex'] == 'male']\n",
      "df_test['Survived'] = df_test.apply(gender_model,axis=1)\n",
      "df_test.head() # Now I got it right !"
     ],
     "language": "python",
     "metadata": {},
     "outputs": []
    },
    {
     "cell_type": "code",
     "collapsed": false,
     "input": [
      "df_test[['PassengerId','Survived']].to_csv('titanic/sub-02.csv', index=False, float_format=\"%f\")\n",
      "# Submit and you will get 0.76555"
     ],
     "language": "python",
     "metadata": {},
     "outputs": []
    },
    {
     "cell_type": "code",
     "collapsed": false,
     "input": [
      "df_test.groupby(by=['Sex','Survived']).count()[['Sex','Survived']]"
     ],
     "language": "python",
     "metadata": {},
     "outputs": []
    },
    {
     "cell_type": "heading",
     "level": 5,
     "metadata": {},
     "source": [
      "Exercise #1:\n",
      "See if PClass, SibSp or Parch is a better indication and change survival accordingly"
     ]
    },
    {
     "cell_type": "heading",
     "level": 2,
     "metadata": {},
     "source": [
      "Now clean the data for applying tree algorithms"
     ]
    },
    {
     "cell_type": "code",
     "collapsed": false,
     "input": [
      "df_train.drop(['Ticket','Cabin','Embarked','Age','Name'],inplace=True,axis=1)"
     ],
     "language": "python",
     "metadata": {},
     "outputs": []
    },
    {
     "cell_type": "code",
     "collapsed": false,
     "input": [
      "df_train.head()"
     ],
     "language": "python",
     "metadata": {},
     "outputs": []
    },
    {
     "cell_type": "code",
     "collapsed": false,
     "input": [
      "gender_code = lambda row: [1,0] [row['Sex'] == 'male']\n",
      "df_train['Gender'] = df_train.apply(gender_code,axis=1)"
     ],
     "language": "python",
     "metadata": {},
     "outputs": []
    },
    {
     "cell_type": "code",
     "collapsed": false,
     "input": [
      "df_train.head()"
     ],
     "language": "python",
     "metadata": {},
     "outputs": []
    },
    {
     "cell_type": "code",
     "collapsed": false,
     "input": [
      "df_train.drop('Sex',inplace=True,axis=1)"
     ],
     "language": "python",
     "metadata": {},
     "outputs": []
    },
    {
     "cell_type": "code",
     "collapsed": false,
     "input": [
      "df_train.head()"
     ],
     "language": "python",
     "metadata": {},
     "outputs": []
    },
    {
     "cell_type": "heading",
     "level": 2,
     "metadata": {},
     "source": [
      "#3 : Simple CART Model"
     ]
    },
    {
     "cell_type": "code",
     "collapsed": false,
     "input": [
      "from sklearn.tree import DecisionTreeClassifier\n",
      "clf = DecisionTreeClassifier() #Default Values incl criterion='gini'; could be critirion='entropy'"
     ],
     "language": "python",
     "metadata": {},
     "outputs": []
    },
    {
     "cell_type": "code",
     "collapsed": false,
     "input": [
      "clf_data = df_train[['Pclass','SibSp','Parch','Fare','Gender']].values\n",
      "clf_target = df_train.Survived.values"
     ],
     "language": "python",
     "metadata": {},
     "outputs": []
    },
    {
     "cell_type": "code",
     "collapsed": false,
     "input": [
      "clf = clf.fit(clf_data,clf_target)"
     ],
     "language": "python",
     "metadata": {},
     "outputs": []
    },
    {
     "cell_type": "code",
     "collapsed": false,
     "input": [
      "import pydot,StringIO"
     ],
     "language": "python",
     "metadata": {},
     "outputs": []
    },
    {
     "cell_type": "code",
     "collapsed": false,
     "input": [
      "dot_data = StringIO.StringIO()"
     ],
     "language": "python",
     "metadata": {},
     "outputs": []
    },
    {
     "cell_type": "code",
     "collapsed": false,
     "input": [
      "from sklearn import tree\n",
      "tree.export_graphviz(clf, out_file=dot_data, feature_names=['Class','Siblings','Parents','Fare','Gender']) "
     ],
     "language": "python",
     "metadata": {},
     "outputs": []
    },
    {
     "cell_type": "code",
     "collapsed": false,
     "input": [
      "graph = pydot.graph_from_dot_data(dot_data.getvalue()) "
     ],
     "language": "python",
     "metadata": {},
     "outputs": []
    },
    {
     "cell_type": "code",
     "collapsed": false,
     "input": [
      "graph.write_png('titanic/titanic.png') "
     ],
     "language": "python",
     "metadata": {},
     "outputs": []
    },
    {
     "cell_type": "code",
     "collapsed": false,
     "input": [
      "from IPython.core.display import Image"
     ],
     "language": "python",
     "metadata": {},
     "outputs": []
    },
    {
     "cell_type": "code",
     "collapsed": false,
     "input": [
      "Image(filename='titanic/titanic.png')"
     ],
     "language": "python",
     "metadata": {},
     "outputs": []
    },
    {
     "cell_type": "heading",
     "level": 4,
     "metadata": {},
     "source": [
      "Now, transform the test data"
     ]
    },
    {
     "cell_type": "code",
     "collapsed": false,
     "input": [
      "df_test.drop(['Ticket','Cabin','Embarked','Age','Name'],inplace=True,axis=1)\n",
      "df_test.head(n=1)"
     ],
     "language": "python",
     "metadata": {},
     "outputs": []
    },
    {
     "cell_type": "code",
     "collapsed": false,
     "input": [
      "gender_code = lambda row: [1,0] [row['Sex'] == 'male']\n",
      "df_test['Gender'] = df_test.apply(gender_code,axis=1)"
     ],
     "language": "python",
     "metadata": {},
     "outputs": []
    },
    {
     "cell_type": "code",
     "collapsed": false,
     "input": [
      "df_test.head(n=1)"
     ],
     "language": "python",
     "metadata": {},
     "outputs": []
    },
    {
     "cell_type": "code",
     "collapsed": false,
     "input": [
      "df_test.drop('Sex',inplace=True,axis=1)\n",
      "df_test.head(n=1)"
     ],
     "language": "python",
     "metadata": {},
     "outputs": []
    },
    {
     "cell_type": "code",
     "collapsed": false,
     "input": [
      "clf_test_data = df_test[['Pclass','SibSp','Parch','Fare','Gender']].values\n",
      "clf_test_predict = clf.predict(clf_test_data)"
     ],
     "language": "python",
     "metadata": {},
     "outputs": []
    },
    {
     "cell_type": "code",
     "collapsed": false,
     "input": [
      "df_test.count()"
     ],
     "language": "python",
     "metadata": {},
     "outputs": []
    },
    {
     "cell_type": "code",
     "collapsed": false,
     "input": [
      "df_test.describe()"
     ],
     "language": "python",
     "metadata": {},
     "outputs": []
    },
    {
     "cell_type": "code",
     "collapsed": false,
     "input": [
      "df_test_1 = df_test.fillna(35) # might be better to filin with average"
     ],
     "language": "python",
     "metadata": {},
     "outputs": []
    },
    {
     "cell_type": "code",
     "collapsed": false,
     "input": [
      "clf_test_data = df_test_1[['Pclass','SibSp','Parch','Fare','Gender']].values\n",
      "clf_test_predict = clf.predict(clf_test_data)"
     ],
     "language": "python",
     "metadata": {},
     "outputs": []
    },
    {
     "cell_type": "code",
     "collapsed": false,
     "input": [
      "df_test_1.head()"
     ],
     "language": "python",
     "metadata": {},
     "outputs": []
    },
    {
     "cell_type": "code",
     "collapsed": false,
     "input": [
      "change_predict = clf_test_predict != df_test_1['Survived']"
     ],
     "language": "python",
     "metadata": {},
     "outputs": []
    },
    {
     "cell_type": "code",
     "collapsed": false,
     "input": [
      "change_predict.mean()"
     ],
     "language": "python",
     "metadata": {},
     "outputs": []
    },
    {
     "cell_type": "code",
     "collapsed": false,
     "input": [
      "df_test_1['Survived'] = clf_test_predict"
     ],
     "language": "python",
     "metadata": {},
     "outputs": []
    },
    {
     "cell_type": "code",
     "collapsed": false,
     "input": [
      "df_test_1[['PassengerId','Survived']].to_csv('titanic/sub-03.csv', index=False, float_format=\"%f\")\n",
      "# Submit and you will get 0.75120/0.74163/.."
     ],
     "language": "python",
     "metadata": {},
     "outputs": []
    },
    {
     "cell_type": "heading",
     "level": 2,
     "metadata": {},
     "source": [
      "#4 : Random Forest Model"
     ]
    },
    {
     "cell_type": "code",
     "collapsed": false,
     "input": [
      "from sklearn.ensemble import RandomForestClassifier"
     ],
     "language": "python",
     "metadata": {},
     "outputs": []
    },
    {
     "cell_type": "code",
     "collapsed": false,
     "input": [
      "clf = RandomForestClassifier(n_estimators=10)"
     ],
     "language": "python",
     "metadata": {},
     "outputs": []
    },
    {
     "cell_type": "code",
     "collapsed": false,
     "input": [
      "clf = clf.fit(clf_data,clf_target)"
     ],
     "language": "python",
     "metadata": {},
     "outputs": []
    },
    {
     "cell_type": "code",
     "collapsed": false,
     "input": [
      "clf_test_predict = clf.predict(clf_test_data)"
     ],
     "language": "python",
     "metadata": {},
     "outputs": []
    },
    {
     "cell_type": "code",
     "collapsed": false,
     "input": [
      "df_test_1['Survived'] = clf_test_predict"
     ],
     "language": "python",
     "metadata": {},
     "outputs": []
    },
    {
     "cell_type": "code",
     "collapsed": false,
     "input": [
      "df_test_1[['PassengerId','Survived']].to_csv('titanic/sub-04.csv', index=False, float_format=\"%f\")\n",
      "# Submit and you will get 0.75598/0.76077"
     ],
     "language": "python",
     "metadata": {},
     "outputs": []
    },
    {
     "cell_type": "code",
     "collapsed": false,
     "input": [
      "clf = RandomForestClassifier(n_estimators=100)\n",
      "clf = clf.fit(clf_data,clf_target)\n",
      "clf_test_predict = clf.predict(clf_test_data)\n",
      "df_test_1['Survived'] = clf_test_predict\n",
      "df_test_1[['PassengerId','Survived']].to_csv('titanic/sub-05.csv', index=False, float_format=\"%f\")\n",
      "# Submit and you will still get 0.75598/0.76555-improved second try\n",
      "# RF needs more features. We have only 5"
     ],
     "language": "python",
     "metadata": {},
     "outputs": []
    },
    {
     "cell_type": "heading",
     "level": 2,
     "metadata": {},
     "source": [
      "#5 : SVM"
     ]
    },
    {
     "cell_type": "code",
     "collapsed": false,
     "input": [
      "from sklearn.svm import SVC"
     ],
     "language": "python",
     "metadata": {},
     "outputs": []
    },
    {
     "cell_type": "code",
     "collapsed": false,
     "input": [
      "clf = SVC() # kernel = 'rbf' Radial Basis Function\n",
      "clf = clf.fit(clf_data,clf_target)\n",
      "clf_test_predict = clf.predict(clf_test_data)\n",
      "df_test_1['Survived'] = clf_test_predict\n",
      "df_test_1[['PassengerId','Survived']].to_csv('titanic/sub-06.csv', index=False, float_format=\"%f\")\n",
      "# Submit and you will still get 0.74641"
     ],
     "language": "python",
     "metadata": {},
     "outputs": []
    },
    {
     "cell_type": "code",
     "collapsed": false,
     "input": [
      "clf = SVC(kernel = \"linear\")\n",
      "clf = clf.fit(clf_data,clf_target)\n",
      "clf_test_predict = clf.predict(clf_test_data)\n",
      "df_test_1['Survived'] = clf_test_predict\n",
      "df_test_1[['PassengerId','Survived']].to_csv('titanic/sub-07.csv', index=False, float_format=\"%f\")\n",
      "# Submit and you will still get 0.76555"
     ],
     "language": "python",
     "metadata": {},
     "outputs": []
    },
    {
     "cell_type": "code",
     "collapsed": false,
     "input": [
      "clf = SVC(kernel = \"sigmoid\")\n",
      "clf = clf.fit(clf_data,clf_target)\n",
      "clf_test_predict = clf.predict(clf_test_data)\n",
      "df_test_1['Survived'] = clf_test_predict\n",
      "df_test_1[['PassengerId','Survived']].to_csv('titanic/sub-08.csv', index=False, float_format=\"%f\")\n",
      "# Submit and you will still get 0.62679"
     ],
     "language": "python",
     "metadata": {},
     "outputs": []
    },
    {
     "cell_type": "heading",
     "level": 3,
     "metadata": {},
     "source": [
      "_That is ALL Folks !_"
     ]
    },
    {
     "cell_type": "code",
     "collapsed": false,
     "input": [],
     "language": "python",
     "metadata": {},
     "outputs": []
    }
   ],
   "metadata": {}
  }
 ]
}